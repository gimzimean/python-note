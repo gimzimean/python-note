{
 "cells": [
  {
   "attachments": {
    "image.png": {
     "image/png": "[encoded data removed]"
    }
   },
   "cell_type": "markdown",
   "metadata": {},
   "source": [
    "![image.png](attachment:image.png)"
   ]
  },
  {
   "cell_type": "markdown",
   "metadata": {},
   "source": [
    "## __init__() : 예약함수"
   ]
  },
  {
   "cell_type": "markdown",
   "metadata": {},
   "source": [
    "- _ init _ _( ) 함수를 만들어 name 과 age 에 관련된 정보를 입력함.\n",
    "- 이 class에서 사용할 변수를 정의하는 함수\n",
    "- 반드시, 첫번째 매개변수는 self변수를 사용해야함.\n",
    "- self 변수는 클래스에서 생성된 인스턴스에 접근하는 예약어\n",
    "- self 뒤의 매개변수들은 실제로 클래스가 가진 속성."
   ]
  },
  {
   "cell_type": "markdown",
   "metadata": {},
   "source": [
    "# 클래스 구현하기 : 속성 선언"
   ]
  },
  {
   "cell_type": "code",
   "execution_count": 48,
   "metadata": {},
   "outputs": [],
   "source": [
    "class SoccerPlayer(object):\n",
    "    def __init__(self, name, position, back_number):\n",
    "        self.name=name\n",
    "        self.position=position\n",
    "        self.back_number=back_number"
   ]
  },
  {
   "cell_type": "markdown",
   "metadata": {},
   "source": [
    "# 클래스 구현하기 : 함수 선언"
   ]
  },
  {
   "cell_type": "markdown",
   "metadata": {},
   "source": [
    "- 이 클래스가 의미하는 어떤 객체가 하는 다양한 동작 정의"
   ]
  },
  {
   "cell_type": "code",
   "execution_count": 49,
   "metadata": {},
   "outputs": [],
   "source": [
    "class SoccerPlayer(object):\n",
    "    def change_back_number(self,new_number):\n",
    "        print(\"선수의 등번호를 변경한다.From %d to %d\"%(self.back_number,new_number))\n",
    "        self.back_number=new_number\n"
   ]
  },
  {
   "cell_type": "markdown",
   "metadata": {},
   "source": [
    "# 클래스 구현하기 : _의 쓰임\n",
    "- '-' 1개 : 이후로 쓰이지 않을 변수에 특별한 이름을 부여하고 싶지 않을 때 사용.\n",
    "- '-' 1개 : 특별한 용도가 없으므로 임의의 변수명 대신에 사용\n",
    "- '-' 2개 : 특수한 예약 함수 or 변수"
   ]
  },
  {
   "cell_type": "code",
   "execution_count": 50,
   "metadata": {},
   "outputs": [
    {
     "name": "stdout",
     "output_type": "stream",
     "text": [
      "Hello, World\n",
      "Hello, World\n",
      "Hello, World\n",
      "Hello, World\n",
      "Hello, World\n",
      "Hello, World\n",
      "Hello, World\n",
      "Hello, World\n",
      "Hello, World\n",
      "Hello, World\n"
     ]
    }
   ],
   "source": [
    "for _ in range(10):\n",
    "    print(\"Hello, World\")"
   ]
  },
  {
   "cell_type": "markdown",
   "metadata": {},
   "source": [
    "## __str__() \n",
    "## : 클래스로 인스턴스를 생성했을 때, 그 인스턴스 자체를 print()함수로 화면에 출력하면 나오는 값. 즉, 인스턴스의 정보를 표시하거나 구분할때!"
   ]
  },
  {
   "cell_type": "code",
   "execution_count": 57,
   "metadata": {},
   "outputs": [],
   "source": [
    "\n",
    "class SoccerPlayer(object):\n",
    "    def __str__(self):\n",
    "        return \"%s의 포지션은 '%s'이고, 숫자는 '%d'입니다.\"%(self.name,self.position,self.back_number)\n",
    "\n"
   ]
  },
  {
   "cell_type": "markdown",
   "metadata": {},
   "source": [
    "# 전체 SoccerPlayer 코드"
   ]
  },
  {
   "cell_type": "code",
   "execution_count": 58,
   "metadata": {},
   "outputs": [],
   "source": [
    "class SoccerPlayer(object):\n",
    "    def __init__(self, name, position, back_number):\n",
    "        self.name=name\n",
    "        self.position=position\n",
    "        self.back_number=back_number\n",
    "    def change_back_number(self,new_number):\n",
    "        print(\"선수의 등번호를 변경한다.From %d to %d\"%(self.back_number,new_number))\n",
    "        self.back_number=new_number\n",
    "\n",
    "    def __str__(self):\n",
    "        return \"%s의 포지션은 '%s'이고, 숫자는 '%d'입니다.\"%(self.name,self.position,self.back_number)\n"
   ]
  },
  {
   "cell_type": "code",
   "execution_count": 59,
   "metadata": {},
   "outputs": [
    {
     "name": "stdout",
     "output_type": "stream",
     "text": [
      "김지민의 포지션은 '공격수'이고, 숫자는 '2'입니다.\n",
      "선수의 등번호를 변경한다.From 2 to 4\n",
      "김지민의 포지션은 '공격수'이고, 숫자는 '4'입니다.\n"
     ]
    }
   ],
   "source": [
    "zimean=SoccerPlayer('김지민','공격수', 2) #인스턴스 생성\n",
    "print(zimean)\n",
    "zimean.change_back_number(4)\n",
    "print(zimean)\n"
   ]
  },
  {
   "cell_type": "code",
   "execution_count": 60,
   "metadata": {},
   "outputs": [
    {
     "name": "stdout",
     "output_type": "stream",
     "text": [
      "바뀐 선수등번호: 4\n"
     ]
    }
   ],
   "source": [
    "print(\"바뀐 선수등번호:\",player.back_number)"
   ]
  },
  {
   "cell_type": "markdown",
   "metadata": {},
   "source": [
    "# 중요!\n",
    "- zimean과 클래스 내 self가 같은 역할\n",
    "- 인스턴스가 생성된 후에는 해당 인스턴스의 이름으로 값을 할당하거나 함수를 부르면 되지만, 클래스 내에서는 self로 호출된다."
   ]
  },
  {
   "cell_type": "markdown",
   "metadata": {},
   "source": [
    "# 클래스를 사용하는 이유!"
   ]
  },
  {
   "cell_type": "code",
   "execution_count": 75,
   "metadata": {},
   "outputs": [
    {
     "name": "stdout",
     "output_type": "stream",
     "text": [
      "0 Messi MF 10\n",
      "0 Ramos DF 4\n",
      "0 Ronaldo CF 7\n",
      "0 Buffon WF 13\n",
      "0 Park DK 1\n",
      "1 [['Messi', 'MF', 10], ['Ramos', 'DF', 4], ['Ronaldo', 'CF', 7], ['Buffon', 'WF', 13], ['Park', 'DK', 1]]\n",
      "2 ['Messi', 'MF', 10]\n"
     ]
    }
   ],
   "source": [
    "#데이터\n",
    "names=[\"Messi\",\"Ramos\",\"Ronaldo\",\"Buffon\",\"Park\"]\n",
    "positions=[\"MF\",\"DF\",\"CF\",\"WF\",\"DK\"]\n",
    "numbers=[10,4,7,13,1]\n",
    "\n",
    "# 이차원 리스트\n",
    "players=[[name, position, number]for name, position,number in zip(names,positions,numbers)]\n",
    "\n",
    "for name, position,number in zip(names,positions,numbers):\n",
    "    print(\"0\",name,position,number)\n",
    "\n",
    "print(\"1\",players)\n",
    "print(\"2\",players[0])"
   ]
  },
  {
   "cell_type": "code",
   "execution_count": 101,
   "metadata": {},
   "outputs": [
    {
     "name": "stdout",
     "output_type": "stream",
     "text": [
      "0 Messi의 포지션은 'MF'이고, 숫자는 '10'입니다.\n",
      "1 Ramos의 포지션은 'DF'이고, 숫자는 '4'입니다.\n",
      "2 Ronaldo의 포지션은 'CF'이고, 숫자는 '7'입니다.\n",
      "3 Buffon의 포지션은 'WF'이고, 숫자는 '13'입니다.\n",
      "4 Park의 포지션은 'DK'이고, 숫자는 '1'입니다.\n",
      "\n",
      "\n",
      "Messi의 포지션은 'MF'이고, 숫자는 '10'입니다.\n",
      "Ramos의 포지션은 'DF'이고, 숫자는 '4'입니다.\n",
      "Ronaldo의 포지션은 'CF'이고, 숫자는 '7'입니다.\n",
      "Buffon의 포지션은 'WF'이고, 숫자는 '13'입니다.\n",
      "Park의 포지션은 'DK'이고, 숫자는 '1'입니다.\n",
      "\n",
      "\n",
      "Messi의 포지션은 'MF'이고, 숫자는 '10'입니다.\n"
     ]
    }
   ],
   "source": [
    "# 클래스\n",
    "class SoccerPlayer(object):\n",
    "    def __init__(self, name, position, back_number):\n",
    "        self.name=name\n",
    "        self.position=position\n",
    "        self.back_number=back_number\n",
    "    def change_back_number(self,new_number):\n",
    "        print(\"선수의 등번호를 변경한다.From %d to %d\"%(self.back_number,new_number))\n",
    "        self.back_number=new_number\n",
    "\n",
    "    def __str__(self):\n",
    "        return \"%s의 포지션은 '%s'이고, 숫자는 '%d'입니다.\"%(self.name,self.position,self.back_number)\n",
    "    \n",
    "# 클래스의 인스턴스\n",
    "player_objects=[SoccerPlayer(name,position,number) for name, position, number in zip(names, positions,numbers)]\n",
    "for i,v in enumerate(player_objects):\n",
    "    print(i,v)\n",
    "    \n",
    "print(\"\\n\")\n",
    "for v in player_objects:\n",
    "    print(v)\n",
    "    \n",
    "print(\"\\n\")    \n",
    "print(player_objects[0])"
   ]
  },
  {
   "cell_type": "markdown",
   "metadata": {},
   "source": [
    "# 2. 상속 : 부모 클래스의 속성과 메서드를 자식 클래스가 물려받아 사용.\n",
    "- 부모 클래스 : 일반적인 기능\n",
    "- 자식 클래스 : 상세한 기능\n",
    "- ==> '부모 클래스의 메서드를 재정의한다'"
   ]
  },
  {
   "cell_type": "code",
   "execution_count": 106,
   "metadata": {},
   "outputs": [
    {
     "name": "stdout",
     "output_type": "stream",
     "text": [
      "김지민 26\n"
     ]
    }
   ],
   "source": [
    "class Person(object):\n",
    "    def __init__(self,name, age):\n",
    "        self.name=name ## 생성자\n",
    "        self.age=age\n",
    "\n",
    "#상속\n",
    "class Korean(Person):\n",
    "    pass ## 클래스만 존재하게 만듦.\n",
    "         ## 생성자가 없어도 Person 클래스가 가진 생성자를 그대로 사용.\n",
    "\n",
    "first_korean=Korean(\"김지민\",26)\n",
    "print(first_korean.name,first_korean.age)\n",
    "    "
   ]
  },
  {
   "cell_type": "markdown",
   "metadata": {},
   "source": [
    "* 파이썬 언어가 객체 지향 프로그래밍이므로 모든 변수는 객체이다"
   ]
  },
  {
   "cell_type": "code",
   "execution_count": 103,
   "metadata": {},
   "outputs": [
    {
     "data": {
      "text/plain": [
       "str"
      ]
     },
     "execution_count": 103,
     "metadata": {},
     "output_type": "execute_result"
    }
   ],
   "source": [
    "# ex) 파이썬 언어가 객체 지향 프로그래밍이라는 것을 알려주는 예시\n",
    "\n",
    "a=\"abc\"\n",
    "type(a)"
   ]
  },
  {
   "cell_type": "markdown",
   "metadata": {},
   "source": [
    "## 실습 - 상속"
   ]
  },
  {
   "cell_type": "code",
   "execution_count": 7,
   "metadata": {},
   "outputs": [],
   "source": [
    "class Person(object):\n",
    "    def __init__(self, name,age, gender):\n",
    "        self.name=name\n",
    "        self.age=age\n",
    "        self.gender=gender\n",
    "    def about_me(self):\n",
    "        print(\"저의 이름은\",self.name,\"이고요, 제 나이는\",str(self.age),\"살입니다.\")\n",
    "        \n",
    "class Employee(Person):                             # 상속\n",
    "    def __init__(self, name, age, gender, salary, hire_date):\n",
    "        super().__init__(name, age, gender)\n",
    "        self.salary=salary\n",
    "        self.hire_date=hire_date\n",
    "    def do_work(self):\n",
    "        print(\"열심히 일을 한다.\")\n",
    "    def about_me(self):                            # 부모 클래스의 함수 재정의\n",
    "        super().about_me()\n",
    "        print(\"제 급여는\",self.salary,\"원이고, 제 입사일은\", self.hire_date,\"입니다\")"
   ]
  },
  {
   "cell_type": "code",
   "execution_count": 9,
   "metadata": {},
   "outputs": [],
   "source": [
    "a=Employee(\"김지민\",2,\"여\",500,34)\n"
   ]
  },
  {
   "cell_type": "code",
   "execution_count": 11,
   "metadata": {},
   "outputs": [
    {
     "name": "stdout",
     "output_type": "stream",
     "text": [
      "저의 이름은 김지민 이고요, 제 나이는 2 살입니다.\n",
      "제 급여는 500 원이고, 제 입사일은 34 입니다\n",
      "None\n"
     ]
    }
   ],
   "source": [
    "print(a.about_me())"
   ]
  },
  {
   "cell_type": "markdown",
   "metadata": {},
   "source": [
    "# 3. 다형성 : 같은 이름의 메서드가 다른 기능을 할 수 있음.\n"
   ]
  },
  {
   "cell_type": "code",
   "execution_count": 15,
   "metadata": {},
   "outputs": [
    {
     "ename": "NameError",
     "evalue": "name 'NaverCrawler' is not defined",
     "output_type": "error",
     "traceback": [
      "\u001b[1;31m---------------------------------------------------------------------------\u001b[0m",
      "\u001b[1;31mNameError\u001b[0m                                 Traceback (most recent call last)",
      "\u001b[1;32m<ipython-input-15-d3b2b2d36260>\u001b[0m in \u001b[0;36m<module>\u001b[1;34m\u001b[0m\n\u001b[1;32m----> 1\u001b[1;33m \u001b[0mn_crawler\u001b[0m\u001b[1;33m=\u001b[0m\u001b[0mNaverCrawler\u001b[0m\u001b[1;33m(\u001b[0m\u001b[1;33m)\u001b[0m\u001b[1;33m\u001b[0m\u001b[1;33m\u001b[0m\u001b[0m\n\u001b[0m\u001b[0;32m      2\u001b[0m \u001b[0md_crawler\u001b[0m\u001b[1;33m=\u001b[0m\u001b[0mDaumCrawler\u001b[0m\u001b[1;33m(\u001b[0m\u001b[1;33m)\u001b[0m\u001b[1;33m\u001b[0m\u001b[1;33m\u001b[0m\u001b[0m\n\u001b[0;32m      3\u001b[0m \u001b[0mcrawlers\u001b[0m\u001b[1;33m=\u001b[0m\u001b[1;33m[\u001b[0m\u001b[0mn_crawler\u001b[0m\u001b[1;33m,\u001b[0m\u001b[0md_crawler\u001b[0m\u001b[1;33m]\u001b[0m\u001b[1;33m\u001b[0m\u001b[1;33m\u001b[0m\u001b[0m\n\u001b[0;32m      4\u001b[0m \u001b[0mnews\u001b[0m\u001b[1;33m=\u001b[0m\u001b[1;33m[\u001b[0m\u001b[1;33m]\u001b[0m\u001b[1;33m\u001b[0m\u001b[1;33m\u001b[0m\u001b[0m\n\u001b[0;32m      5\u001b[0m \u001b[1;32mfor\u001b[0m \u001b[0mcrawler\u001b[0m \u001b[1;32min\u001b[0m \u001b[0mcrawlers\u001b[0m\u001b[1;33m:\u001b[0m\u001b[1;33m\u001b[0m\u001b[1;33m\u001b[0m\u001b[0m\n",
      "\u001b[1;31mNameError\u001b[0m: name 'NaverCrawler' is not defined"
     ]
    }
   ],
   "source": [
    "n_crawler=NaverCrawler()\n",
    "d_crawler=DaumCrawler()\n",
    "crawlers=[n_crawler,d_crawler]\n",
    "news=[]\n",
    "for crawler in crawlers:\n",
    "    news.append(crawler.do_crawling())\n"
   ]
  },
  {
   "cell_type": "code",
   "execution_count": 20,
   "metadata": {},
   "outputs": [
    {
     "name": "stdout",
     "output_type": "stream",
     "text": [
      "Missy : MEOW!\n",
      "Mr.Mistoffelees : MEOW!\n",
      "Lassie : WOOF!WOOF!\n"
     ]
    }
   ],
   "source": [
    "class Animal:\n",
    "    def __init__(self, name):\n",
    "        self.name=name\n",
    "    def talk(self):\n",
    "        raise NotImplementedError(\"Subclass must implement abstract method\") # NotImplementedError()함수 호출 : 자식 클래스에서만 해당 함수가 사용할 수 있도록 한다는 뜻.!!!!\n",
    "class Cat(Animal):\n",
    "    def talk(self):\n",
    "        return \"MEOW!\"\n",
    "class Dog(Animal):\n",
    "    def talk(self):\n",
    "        return \"WOOF!WOOF!\"\n",
    "    \n",
    "animals=[Cat('Missy'),Cat('Mr.Mistoffelees'),Dog('Lassie')]\n",
    "for animal in animals:\n",
    "    print(animal.name+\" : \"+animal.talk())"
   ]
  },
  {
   "cell_type": "markdown",
   "metadata": {},
   "source": [
    "# !위의 설명 \n",
    "- 두 동물에서 talk()함수에 다른 역할을 한다.\n",
    "- 부모클래스(Animal)에서 NotImplementedError()함수 호출 : 자식 클래스에서만 해당 함수가 사용할 수 있도록 한다는 뜻.!!!!"
   ]
  },
  {
   "cell_type": "markdown",
   "metadata": {},
   "source": [
    "# 4. 가시성 : 객체의 정보를 볼 수 있는 레벨을 조절(=캡슐화, 은닉)"
   ]
  },
  {
   "cell_type": "code",
   "execution_count": 34,
   "metadata": {},
   "outputs": [
    {
     "name": "stdout",
     "output_type": "stream",
     "text": [
      "<__main__.Inventory object at 0x0000022BE2FF6608>\n",
      "new item added\n",
      "new item added\n"
     ]
    },
    {
     "ename": "AttributeError",
     "evalue": "'Inventory' object has no attribute '__items'",
     "output_type": "error",
     "traceback": [
      "\u001b[1;31m---------------------------------------------------------------------------\u001b[0m",
      "\u001b[1;31mAttributeError\u001b[0m                            Traceback (most recent call last)",
      "\u001b[1;32m<ipython-input-34-0d740ef8e7dc>\u001b[0m in \u001b[0;36m<module>\u001b[1;34m\u001b[0m\n\u001b[0;32m     21\u001b[0m \u001b[0mmy_inventory\u001b[0m\u001b[1;33m.\u001b[0m\u001b[0madd_new_item\u001b[0m\u001b[1;33m(\u001b[0m\u001b[0mProduct\u001b[0m\u001b[1;33m(\u001b[0m\u001b[1;33m)\u001b[0m\u001b[1;33m)\u001b[0m\u001b[1;33m\u001b[0m\u001b[1;33m\u001b[0m\u001b[0m\n\u001b[0;32m     22\u001b[0m \u001b[0mmy_inventory\u001b[0m\u001b[1;33m.\u001b[0m\u001b[0madd_new_item\u001b[0m\u001b[1;33m(\u001b[0m\u001b[0mProduct\u001b[0m\u001b[1;33m(\u001b[0m\u001b[1;33m)\u001b[0m\u001b[1;33m)\u001b[0m\u001b[1;33m\u001b[0m\u001b[1;33m\u001b[0m\u001b[0m\n\u001b[1;32m---> 23\u001b[1;33m \u001b[0mmy_inventory\u001b[0m\u001b[1;33m.\u001b[0m\u001b[0m__items\u001b[0m\u001b[1;33m\u001b[0m\u001b[1;33m\u001b[0m\u001b[0m\n\u001b[0m",
      "\u001b[1;31mAttributeError\u001b[0m: 'Inventory' object has no attribute '__items'"
     ]
    }
   ],
   "source": [
    "# 가시성1\n",
    "\n",
    "class Product(object):\n",
    "    pass\n",
    "class Inventory(object):\n",
    "    def __init__(self):\n",
    "        self.__items=[]\n",
    "        \n",
    "    def add_new_item(self,product):\n",
    "        if type(product)==Product:\n",
    "            self.__items.append(product)\n",
    "            print(\"new item added\")\n",
    "        else:\n",
    "            raise ValueError(\"Invalid Item\")\n",
    "            \n",
    "    def get_number_of_items(self):\n",
    "        return len(self.__items)\n",
    "    \n",
    "my_inventory=Inventory()\n",
    "print(my_inventory)\n",
    "my_inventory.add_new_item(Product())\n",
    "my_inventory.add_new_item(Product())\n",
    "my_inventory.__items"
   ]
  },
  {
   "cell_type": "code",
   "execution_count": 8,
   "metadata": {},
   "outputs": [
    {
     "name": "stdout",
     "output_type": "stream",
     "text": [
      "[]\n",
      "None\n"
     ]
    }
   ],
   "source": [
    "# 가시성 2\n",
    "\n",
    "class Product(object):\n",
    "    pass\n",
    "class Inventory(object):\n",
    "    def __init__(self):\n",
    "        self.__items=[]             #private 변수 (타인이 접근 X)\n",
    "    \n",
    "    @property                       #property 데코레이터 (숨겨진 변수 반환)\n",
    "    def items(self):\n",
    "        return self.__items\n",
    "        \n",
    "    def add_new_item(self,product):\n",
    "        if type(product)==Product:\n",
    "            self.__items.append(product)\n",
    "            print(\"new item added\")\n",
    "        else:\n",
    "            raise ValueError(\"Invalid Item\")\n",
    "            \n",
    "    def get_number_of_items(self):\n",
    "        return len(self.__items)\n",
    "   \n",
    "    \n",
    "my_inventory=Inventory()\n",
    "items=my_inventory.items\n",
    "print(items)\n",
    "print(items.append(Product()))\n"
   ]
  },
  {
   "cell_type": "markdown",
   "metadata": {},
   "source": [
    "# !위의 설명:\n",
    "- 부분은 _ _items 변수의 원래 이름이 아닌 items 로 호출할 수 있다\n",
    "- @property를 붙인 함수 이름으로 실제 __items를 사용.\n"
   ]
  },
  {
   "cell_type": "code",
   "execution_count": null,
   "metadata": {},
   "outputs": [],
   "source": []
  },
  {
   "cell_type": "code",
   "execution_count": null,
   "metadata": {},
   "outputs": [],
   "source": []
  },
  {
   "cell_type": "code",
   "execution_count": null,
   "metadata": {},
   "outputs": [],
   "source": []
  },
  {
   "cell_type": "code",
   "execution_count": null,
   "metadata": {},
   "outputs": [],
   "source": []
  }
 ],
 "metadata": {
  "kernelspec": {
   "display_name": "Python 3",
   "language": "python",
   "name": "python3"
  },
  "language_info": {
   "codemirror_mode": {
    "name": "ipython",
    "version": 3
   },
   "file_extension": ".py",
   "mimetype": "text/x-python",
   "name": "python",
   "nbconvert_exporter": "python",
   "pygments_lexer": "ipython3",
   "version": "3.7.4"
  }
 },
 "nbformat": 4,
 "nbformat_minor": 2
}
