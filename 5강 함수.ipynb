{
 "cells": [
  {
   "cell_type": "markdown",
   "metadata": {},
   "source": [
    "# 함수의 실행 순서"
   ]
  },
  {
   "cell_type": "code",
   "execution_count": 3,
   "metadata": {},
   "outputs": [
    {
     "name": "stdout",
     "output_type": "stream",
     "text": [
      "사각형 X의 길이는: 10\n",
      "사각형 Y의 길이는: 5\n",
      "사각형 넓이는: 50\n"
     ]
    }
   ],
   "source": [
    "def calculate_rectangle_area(x,y):\n",
    "    return x*y\n",
    "\n",
    "rectangle_x=10\n",
    "rectangle_y=5\n",
    "\n",
    "print(\"사각형 X의 길이는:\",rectangle_x)\n",
    "print(\"사각형 Y의 길이는:\",rectangle_y)\n",
    "\n",
    "\n",
    "print(\"사각형 넓이는:\",calculate_rectangle_area(rectangle_x,rectangle_y))\n"
   ]
  },
  {
   "cell_type": "markdown",
   "metadata": {},
   "source": [
    "# 프로그래밍의 함수와 수학의 함수"
   ]
  },
  {
   "cell_type": "code",
   "execution_count": 4,
   "metadata": {},
   "outputs": [
    {
     "name": "stdout",
     "output_type": "stream",
     "text": [
      "x의 값을 입력하시오2\n",
      "151\n"
     ]
    }
   ],
   "source": [
    "def f(x):\n",
    "    return 2*x+7\n",
    "\n",
    "def g(x):\n",
    "    return x**2\n",
    "\n",
    "x=int(input(\"x의 값을 입력하시오\"))\n",
    "\n",
    "if __name__=='__main__':\n",
    "    print(f(x)+g(x)+f(g(x))+g(f(x)))\n"
   ]
  },
  {
   "cell_type": "markdown",
   "metadata": {},
   "source": [
    "# 함수의 호출 방식"
   ]
  },
  {
   "cell_type": "markdown",
   "metadata": {},
   "source": [
    "### 값에 의한 호출 : 함수에 인수를 넘길때 값만 넘김\n",
    "\n",
    "함수 안의 인수 값 변경-> 호출된 변수에 영향 X"
   ]
  },
  {
   "cell_type": "code",
   "execution_count": 6,
   "metadata": {},
   "outputs": [
    {
     "name": "stdout",
     "output_type": "stream",
     "text": [
      "9\n",
      "3\n"
     ]
    }
   ],
   "source": [
    "def f(x):\n",
    "    y=x\n",
    "    x=5\n",
    "    return y*y\n",
    "\n",
    "x=3\n",
    "print(f(x)) ##15가 아님! 9임!!\n",
    "print(x)"
   ]
  },
  {
   "cell_type": "markdown",
   "metadata": {},
   "source": [
    "### 참조 호출 : 함수에 인수를 넘길 떄 메모리 주소를 넘김 \n",
    "\n",
    "함수안의 인수 값 변경 -> 호출된 변수 값도 변경됨"
   ]
  },
  {
   "cell_type": "code",
   "execution_count": 8,
   "metadata": {},
   "outputs": [
    {
     "name": "stdout",
     "output_type": "stream",
     "text": [
      "[0]\n",
      "[0, 2]\n"
     ]
    }
   ],
   "source": [
    "def spam(eggs):\n",
    "    eggs.append(2)\n",
    "    eggs=[2,3]\n",
    "    \n",
    "ham=[0]\n",
    "print(ham)\n",
    "spam(ham)\n",
    "print(ham)\n"
   ]
  },
  {
   "cell_type": "markdown",
   "metadata": {},
   "source": [
    "# 변수의 사용 범위"
   ]
  },
  {
   "cell_type": "code",
   "execution_count": 16,
   "metadata": {},
   "outputs": [
    {
     "name": "stdout",
     "output_type": "stream",
     "text": [
      "10\n",
      "In function: 20\n",
      "in main 10\n"
     ]
    },
    {
     "ename": "NameError",
     "evalue": "name 't' is not defined",
     "output_type": "error",
     "traceback": [
      "\u001b[1;31m---------------------------------------------------------------------------\u001b[0m",
      "\u001b[1;31mNameError\u001b[0m                                 Traceback (most recent call last)",
      "\u001b[1;32m<ipython-input-16-a552739107a7>\u001b[0m in \u001b[0;36m<module>\u001b[1;34m\u001b[0m\n\u001b[0;32m      7\u001b[0m \u001b[0mtest\u001b[0m\u001b[1;33m(\u001b[0m\u001b[0mx\u001b[0m\u001b[1;33m)\u001b[0m\u001b[1;33m\u001b[0m\u001b[1;33m\u001b[0m\u001b[0m\n\u001b[0;32m      8\u001b[0m \u001b[0mprint\u001b[0m\u001b[1;33m(\u001b[0m\u001b[1;34m\"in main\"\u001b[0m\u001b[1;33m,\u001b[0m\u001b[0mx\u001b[0m\u001b[1;33m)\u001b[0m\u001b[1;33m\u001b[0m\u001b[1;33m\u001b[0m\u001b[0m\n\u001b[1;32m----> 9\u001b[1;33m \u001b[0mprint\u001b[0m\u001b[1;33m(\u001b[0m\u001b[1;34m\"in main\"\u001b[0m\u001b[1;33m,\u001b[0m\u001b[0mt\u001b[0m\u001b[1;33m)\u001b[0m\u001b[1;33m\u001b[0m\u001b[1;33m\u001b[0m\u001b[0m\n\u001b[0m",
      "\u001b[1;31mNameError\u001b[0m: name 't' is not defined"
     ]
    }
   ],
   "source": [
    "def test(t):\n",
    "    print(x)\n",
    "    t=20\n",
    "    print(\"In function:\",t)\n",
    "x=10\n",
    "\n",
    "test(x)\n",
    "print(\"in main\",x)\n",
    "print(\"in main\",t)"
   ]
  },
  {
   "cell_type": "code",
   "execution_count": 18,
   "metadata": {},
   "outputs": [
    {
     "name": "stdout",
     "output_type": "stream",
     "text": [
      "I love London!\n",
      "I love Paris!\n"
     ]
    }
   ],
   "source": [
    "def f():\n",
    "    s=\"I love London!\"\n",
    "    print(s)\n",
    "s=\"I love Paris!\"\n",
    "f()\n",
    "print(s)"
   ]
  },
  {
   "cell_type": "markdown",
   "metadata": {},
   "source": [
    "# global 변수 사용"
   ]
  },
  {
   "cell_type": "code",
   "execution_count": 21,
   "metadata": {},
   "outputs": [
    {
     "name": "stdout",
     "output_type": "stream",
     "text": [
      "I love London!\n",
      "I love London!\n"
     ]
    }
   ],
   "source": [
    "def f():\n",
    "    global s\n",
    "    s=\"I love London!\"\n",
    "    print(s)\n",
    "    \n",
    "s=\"I love Paris!\"\n",
    "f()\n",
    "print(s)  "
   ]
  },
  {
   "cell_type": "code",
   "execution_count": 2,
   "metadata": {},
   "outputs": [
    {
     "name": "stdout",
     "output_type": "stream",
     "text": [
      "In Program-1\n",
      "a: 5 b: 7 a+b: 12 total: 0\n",
      "In Function\n",
      "a: 5 b: 7 a+b: 12 total: 12\n",
      "After Calculation\n",
      "TOTAL: 0 SUM: 12\n"
     ]
    }
   ],
   "source": [
    "def calculate(x,y):\n",
    "    total=x+y\n",
    "    print(\"In Function\")\n",
    "    print(\"a:\",str(a),\"b:\",str(b),\"a+b:\",str(a+b),\"total:\",str(total))\n",
    "    return total\n",
    "\n",
    "a=5\n",
    "b=7\n",
    "total=0\n",
    "\n",
    "print(\"In Program-1\")\n",
    "print(\"a:\",str(a),\"b:\",str(b),\"a+b:\",str(a+b),\"total:\",str(total))\n",
    "\n",
    "sum=calculate(a,b)\n",
    "print(\"After Calculation\")\n",
    "print(\"TOTAL:\", str(total),\"SUM:\",str(sum)) \n",
    "##지역변수는 전역변수에 영향을 주지 않음\n"
   ]
  },
  {
   "cell_type": "markdown",
   "metadata": {},
   "source": [
    "# 재귀함수 : 함수가 자기 자신을 다시 부르는 함수"
   ]
  },
  {
   "cell_type": "code",
   "execution_count": 3,
   "metadata": {},
   "outputs": [
    {
     "name": "stdout",
     "output_type": "stream",
     "text": [
      "팩토리얼 숫자 입력:5\n",
      "120\n"
     ]
    }
   ],
   "source": [
    "def factorial(n):\n",
    "    if n==1:\n",
    "        return 1\n",
    "    else:\n",
    "        return n*factorial(n-1)\n",
    "    \n",
    "print(factorial(int(input(\"팩토리얼 숫자 입력:\"))))"
   ]
  },
  {
   "cell_type": "markdown",
   "metadata": {},
   "source": [
    "# 함수의 인수"
   ]
  },
  {
   "cell_type": "markdown",
   "metadata": {},
   "source": [
    "#### 키워드 인수 : 함수에 입력되는 매개변수의 변수명을 사용하여 함수의 인수를 지정하는 방법"
   ]
  },
  {
   "cell_type": "code",
   "execution_count": 8,
   "metadata": {},
   "outputs": [
    {
     "name": "stdout",
     "output_type": "stream",
     "text": [
      "Hello TeamLAB, My name is zimean\n",
      "Hello TEAMLAB, My name is gimean\n"
     ]
    }
   ],
   "source": [
    "def print_something(my_name, your_name):\n",
    "    print(\"Hello {0}, My name is {1}\".format(your_name,my_name))\n",
    "print_something(\"zimean\",\"TeamLAB\")\n",
    "print_something(your_name=\"TEAMLAB\",my_name=\"gimean\")"
   ]
  },
  {
   "cell_type": "markdown",
   "metadata": {},
   "source": [
    "#### 디폴트 인수 : 매개변수에 기본 값을 지정하여 사용하고, 아무런 값도 인수로 넘기지 않으면 지정된 기본 값을 사용하는 방식"
   ]
  },
  {
   "cell_type": "code",
   "execution_count": 17,
   "metadata": {},
   "outputs": [
    {
     "name": "stdout",
     "output_type": "stream",
     "text": [
      "Hello TeamLAB, My name is zimean\n",
      "Hello TeamLAB!, My name is zimean\n",
      "Hello TEAMLAB, My name is SUngchul\n"
     ]
    }
   ],
   "source": [
    "def print_something2(my_name, your_name=\"TEAMLAB\"):\n",
    "    print(\"Hello {0}, My name is {1}\".format(your_name,my_name))\n",
    "    \n",
    "print_something2(\"zimean\",\"TeamLAB\")\n",
    "print_something2(\"zimean\",\"TeamLAB!\")\n",
    "print_something2(\"SUngchul\")"
   ]
  },
  {
   "cell_type": "markdown",
   "metadata": {},
   "source": [
    "#### 가변 인수 : 함수의 매개변수 개수가 정해지지 않고 사용\n",
    "#### * : 제곱, 곱셈 외에도 변수를 묶어 주는 가변 인수를 만듬"
   ]
  },
  {
   "cell_type": "code",
   "execution_count": 3,
   "metadata": {},
   "outputs": [
    {
     "name": "stdout",
     "output_type": "stream",
     "text": [
      "15\n"
     ]
    }
   ],
   "source": [
    "def asterisk_test(a,b,*args):\n",
    "    return a+b+sum(args)\n",
    "\n",
    "\n",
    "print(asterisk_test(1,2,3,4,5))"
   ]
  },
  {
   "cell_type": "code",
   "execution_count": 14,
   "metadata": {},
   "outputs": [
    {
     "name": "stdout",
     "output_type": "stream",
     "text": [
      "(3, 4, 5)\n",
      "5\n",
      "None\n",
      "(3, 4, 5)\n",
      "5\n"
     ]
    }
   ],
   "source": [
    "def asterisk_test(a,b,*args):\n",
    "    print(args)\n",
    "    print(args[2])\n",
    "print(asterisk_test(1,2,3,4,5))\n",
    "asterisk_test(1,2,3,4,5)"
   ]
  },
  {
   "cell_type": "markdown",
   "metadata": {},
   "source": [
    "###### 언패킹"
   ]
  },
  {
   "cell_type": "code",
   "execution_count": 13,
   "metadata": {},
   "outputs": [
    {
     "name": "stdout",
     "output_type": "stream",
     "text": [
      "(3, 4, [5, 10, 20])\n"
     ]
    }
   ],
   "source": [
    "def asterist_test_2(*args):\n",
    "    x,y,*z=args\n",
    "    return x,y,z\n",
    "print(asterist_test_2(3,4,5,10,20))"
   ]
  },
  {
   "cell_type": "markdown",
   "metadata": {},
   "source": [
    "# *args \n",
    "사람의 이름을 받아서 성과 이름을 분리한 후 출력하고 싶음 <br/>\n",
    "BUT, 사용자가\"몇 개의\"이름을 적어 넣을지 모름<br/>\n",
    "그럴 때, *args "
   ]
  },
  {
   "cell_type": "code",
   "execution_count": 28,
   "metadata": {},
   "outputs": [
    {
     "name": "stdout",
     "output_type": "stream",
     "text": [
      "이 천수 \n",
      "\n",
      "이 천수 안 정환 \n",
      "\n",
      "이 천수 안 정환 차 두리 \n",
      "\n",
      "이 천수 \n",
      "\n"
     ]
    }
   ],
   "source": [
    "def lastName_and_FirstName(*Names):\n",
    "    for name in Names:\n",
    "        print(\"%s %s\"%(name[0], name[1:3]),end=' ')\n",
    "    print(\"\\n\")\n",
    "lastName_and_FirstName(\"이천수\")\n",
    "lastName_and_FirstName(\"이천수\",\"안정환\")\n",
    "lastName_and_FirstName(\"이천수\",\"안정환\",\"차두리\")\n"
   ]
  },
  {
   "cell_type": "markdown",
   "metadata": {},
   "source": [
    "##### 튜플형태 확인!"
   ]
  },
  {
   "cell_type": "code",
   "execution_count": 34,
   "metadata": {},
   "outputs": [
    {
     "name": "stdout",
     "output_type": "stream",
     "text": [
      "이 천수 안 정환 차 두리 \n",
      "\n",
      "<class 'tuple'> ('이천수', '안정환', '차두리')\n"
     ]
    }
   ],
   "source": [
    "def lastName_and_FirstName(*Names):\n",
    "    for name in Names:\n",
    "        print(\"%s %s\"%(name[0], name[1:3]),end=' ')\n",
    "    print(\"\\n\")\n",
    "    print(type(Names),Names)\n",
    "\n",
    "lastName_and_FirstName(\"이천수\",\"안정환\",\"차두리\")\n"
   ]
  },
  {
   "cell_type": "code",
   "execution_count": null,
   "metadata": {},
   "outputs": [],
   "source": []
  },
  {
   "cell_type": "markdown",
   "metadata": {},
   "source": [
    "### 키워드 가변 인수 : 매개변수의 이름을 따로 지정하지 않고 입력하는 방법\n",
    "#### 가변인수와 달리 **를 사용하여 함수의 매개변수 표시\n",
    "#### 입력된 값은 튜플 자료형이 아닌 딕셔너리 자료형으로 사용 \n",
    "#### 가변인수 다음에 선언되어야함."
   ]
  },
  {
   "cell_type": "code",
   "execution_count": 16,
   "metadata": {},
   "outputs": [
    {
     "name": "stdout",
     "output_type": "stream",
     "text": [
      "{'first': 3, 'second': 4, 'third': 5}\n",
      "First value is 3\n",
      "second value is 4\n",
      "third value is 5\n"
     ]
    }
   ],
   "source": [
    "def kwargs_test(**kwargs):\n",
    "    print(kwargs)\n",
    "    print(\"First value is {first}\".format(**kwargs))\n",
    "    print(\"second value is {second}\".format(**kwargs))\n",
    "    print(\"third value is {third}\".format(**kwargs))\n",
    "    \n",
    "kwargs_test(first=3,second=4, third=5)\n"
   ]
  },
  {
   "cell_type": "code",
   "execution_count": 17,
   "metadata": {},
   "outputs": [
    {
     "name": "stdout",
     "output_type": "stream",
     "text": [
      "42\n",
      "{'first': 3, 'second': 4, 'third': 5}\n"
     ]
    }
   ],
   "source": [
    "def kwargs_test(one, two, *args,**kwargs):\n",
    "    print(one+two+sum(args))\n",
    "    print(kwargs)\n",
    "    \n",
    "kwargs_test(3,4,5,6,7,8,9,first=3,second=4,third=5)\n"
   ]
  },
  {
   "cell_type": "markdown",
   "metadata": {},
   "source": [
    "#### 함수 개발 가이드라인 : 공통으로 사용되는 코드를 함수로 변환"
   ]
  },
  {
   "cell_type": "code",
   "execution_count": 18,
   "metadata": {},
   "outputs": [
    {
     "name": "stdout",
     "output_type": "stream",
     "text": [
      "HellO WORLD\n",
      "Hello TeamLab\n",
      "HellO WORLD\n",
      "Hello TeamLab\n"
     ]
    }
   ],
   "source": [
    "def print_hello():\n",
    "    print(\"HellO WORLD\")\n",
    "    print(\"Hello TeamLab\")\n",
    "a=5\n",
    "if(a>3):\n",
    "    print_hello()\n",
    "    \n",
    "if(a>4):\n",
    "    print_hello()\n",
    "if(a>5):\n",
    "    print_hello()"
   ]
  },
  {
   "cell_type": "markdown",
   "metadata": {},
   "source": [
    "#### 함수 개발 가이드라인 : 복잡한 로직이 사용되었을땐, 식별 가능한 이름의 함수로 변환"
   ]
  },
  {
   "cell_type": "code",
   "execution_count": 20,
   "metadata": {},
   "outputs": [
    {
     "name": "stdout",
     "output_type": "stream",
     "text": [
      "[1.0, 1.0]\n"
     ]
    }
   ],
   "source": [
    "import math\n",
    "\n",
    "def get_result_quadratic_equation(a,b,c):\n",
    "    values=[]\n",
    "    values.append((-b+math.sqrt(b**2-(4*a*c)))/(2*a))\n",
    "    values.append((-b-math.sqrt(b**2-(4*a*c)))/(2*a))\n",
    "    return values\n",
    "print(get_result_quadratic_equation(1,-2,1))"
   ]
  },
  {
   "cell_type": "markdown",
   "metadata": {},
   "source": [
    "# *kwargs  : keyword argument\n",
    "(키워드= 특정 값)형태로 함수 호출<br/>\n",
    "딕셔너리 형태로 {'키워드':'특정값'} 이런 형태로 함수 내부로 전달됨."
   ]
  },
  {
   "cell_type": "code",
   "execution_count": 35,
   "metadata": {},
   "outputs": [
    {
     "name": "stdout",
     "output_type": "stream",
     "text": [
      "MyName is Chris!\n"
     ]
    }
   ],
   "source": [
    "def introduceEnglishName(**kwargs):\n",
    "    for key,value in kwargs.items():\n",
    "        print(\"{0} is {1}\".format(key,value))\n",
    "        \n",
    "introduceEnglishName(MyName=\"Chris!\")"
   ]
  },
  {
   "cell_type": "code",
   "execution_count": 38,
   "metadata": {},
   "outputs": [
    {
     "name": "stdout",
     "output_type": "stream",
     "text": [
      "MyName is Chris!\n",
      "주인님 오셨군요!\n"
     ]
    }
   ],
   "source": [
    "def introduceEnglishName(**kwargs):\n",
    "    for key,value in kwargs.items():\n",
    "        if 'ant' in kwargs.keys():\n",
    "            print(\"주인님 오셨군요!\")\n",
    "        \n",
    "        else:\n",
    "            print(\"{0} is {1}\".format(key,value))\n",
    "        \n",
    "introduceEnglishName(MyName=\"Chris!\")\n",
    "introduceEnglishName(ant=\"AntChrist!\")"
   ]
  },
  {
   "cell_type": "code",
   "execution_count": null,
   "metadata": {},
   "outputs": [],
   "source": []
  },
  {
   "cell_type": "code",
   "execution_count": null,
   "metadata": {},
   "outputs": [],
   "source": []
  },
  {
   "cell_type": "code",
   "execution_count": null,
   "metadata": {},
   "outputs": [],
   "source": []
  },
  {
   "cell_type": "code",
   "execution_count": null,
   "metadata": {},
   "outputs": [],
   "source": []
  },
  {
   "cell_type": "code",
   "execution_count": null,
   "metadata": {},
   "outputs": [],
   "source": []
  },
  {
   "cell_type": "code",
   "execution_count": null,
   "metadata": {},
   "outputs": [],
   "source": []
  },
  {
   "cell_type": "code",
   "execution_count": null,
   "metadata": {},
   "outputs": [],
   "source": []
  },
  {
   "cell_type": "code",
   "execution_count": null,
   "metadata": {},
   "outputs": [],
   "source": []
  },
  {
   "cell_type": "code",
   "execution_count": null,
   "metadata": {},
   "outputs": [],
   "source": []
  },
  {
   "cell_type": "code",
   "execution_count": null,
   "metadata": {},
   "outputs": [],
   "source": []
  },
  {
   "cell_type": "code",
   "execution_count": null,
   "metadata": {},
   "outputs": [],
   "source": []
  },
  {
   "cell_type": "code",
   "execution_count": null,
   "metadata": {},
   "outputs": [],
   "source": []
  },
  {
   "cell_type": "code",
   "execution_count": null,
   "metadata": {},
   "outputs": [],
   "source": []
  },
  {
   "cell_type": "code",
   "execution_count": null,
   "metadata": {},
   "outputs": [],
   "source": []
  },
  {
   "cell_type": "code",
   "execution_count": null,
   "metadata": {},
   "outputs": [],
   "source": []
  },
  {
   "cell_type": "code",
   "execution_count": null,
   "metadata": {},
   "outputs": [],
   "source": []
  },
  {
   "cell_type": "code",
   "execution_count": null,
   "metadata": {},
   "outputs": [],
   "source": []
  },
  {
   "cell_type": "code",
   "execution_count": null,
   "metadata": {},
   "outputs": [],
   "source": []
  },
  {
   "cell_type": "code",
   "execution_count": null,
   "metadata": {},
   "outputs": [],
   "source": []
  },
  {
   "cell_type": "code",
   "execution_count": null,
   "metadata": {},
   "outputs": [],
   "source": []
  }
 ],
 "metadata": {
  "kernelspec": {
   "display_name": "Python 3",
   "language": "python",
   "name": "python3"
  },
  "language_info": {
   "codemirror_mode": {
    "name": "ipython",
    "version": 3
   },
   "file_extension": ".py",
   "mimetype": "text/x-python",
   "name": "python",
   "nbconvert_exporter": "python",
   "pygments_lexer": "ipython3",
   "version": "3.7.4"
  }
 },
 "nbformat": 4,
 "nbformat_minor": 2
}
