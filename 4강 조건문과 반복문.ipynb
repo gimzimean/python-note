{
 "cells": [
  {
   "cell_type": "markdown",
   "metadata": {},
   "source": [
    "# 1.조건문"
   ]
  },
  {
   "cell_type": "code",
   "execution_count": 1,
   "metadata": {},
   "outputs": [
    {
     "name": "stdout",
     "output_type": "stream",
     "text": [
      "tell me your age\n"
     ]
    }
   ],
   "source": [
    "print(\"tell me your age\")"
   ]
  },
  {
   "cell_type": "code",
   "execution_count": 2,
   "metadata": {},
   "outputs": [
    {
     "name": "stdout",
     "output_type": "stream",
     "text": [
      "20\n"
     ]
    }
   ],
   "source": [
    "myage=int(input())"
   ]
  },
  {
   "cell_type": "code",
   "execution_count": 3,
   "metadata": {},
   "outputs": [
    {
     "name": "stdout",
     "output_type": "stream",
     "text": [
      "welcome to the Club\n"
     ]
    }
   ],
   "source": [
    "if myage<30:\n",
    "    print(\"welcome to the Club\")\n",
    "else:\n",
    "    print(\"oh!no, you are not accepted\")\n"
   ]
  },
  {
   "cell_type": "markdown",
   "metadata": {},
   "source": [
    "### True False의 치환"
   ]
  },
  {
   "cell_type": "markdown",
   "metadata": {},
   "source": [
    "true  = 1<br/>\n",
    "false = 0"
   ]
  },
  {
   "cell_type": "code",
   "execution_count": 6,
   "metadata": {},
   "outputs": [
    {
     "name": "stdout",
     "output_type": "stream",
     "text": [
      "true\n"
     ]
    }
   ],
   "source": [
    "if 1: print(\"true\")\n",
    "else:print(\"false\")"
   ]
  },
  {
   "cell_type": "code",
   "execution_count": 7,
   "metadata": {},
   "outputs": [
    {
     "data": {
      "text/plain": [
       "True"
      ]
     },
     "execution_count": 7,
     "metadata": {},
     "output_type": "execute_result"
    }
   ],
   "source": [
    "(3>5)<10 #(3>5)==false==0"
   ]
  },
  {
   "cell_type": "markdown",
   "metadata": {},
   "source": [
    "## if-elif-else문"
   ]
  },
  {
   "cell_type": "code",
   "execution_count": 8,
   "metadata": {},
   "outputs": [
    {
     "name": "stdout",
     "output_type": "stream",
     "text": [
      "점수를 입력하시오85\n"
     ]
    }
   ],
   "source": [
    "score=int(input(\"점수를 입력하시오\"))    "
   ]
  },
  {
   "cell_type": "code",
   "execution_count": 9,
   "metadata": {},
   "outputs": [],
   "source": [
    "if score>=90:\n",
    "    grade=\"A\"\n",
    "elif score>=80: grade='b'\n",
    "elif score>=70: grade='c'\n",
    "elif score>=60: grade='d'\n",
    "else: grade='F'"
   ]
  },
  {
   "cell_type": "code",
   "execution_count": 10,
   "metadata": {},
   "outputs": [
    {
     "name": "stdout",
     "output_type": "stream",
     "text": [
      "b\n"
     ]
    }
   ],
   "source": [
    "print(grade)"
   ]
  },
  {
   "cell_type": "markdown",
   "metadata": {},
   "source": [
    "## 실습"
   ]
  },
  {
   "cell_type": "code",
   "execution_count": 11,
   "metadata": {},
   "outputs": [
    {
     "name": "stdout",
     "output_type": "stream",
     "text": [
      "당신이 태어난 연도를 입력하시오1982\n"
     ]
    }
   ],
   "source": [
    "birthYear=int(input(\"당신이 태어난 연도를 입력하시오\"))"
   ]
  },
  {
   "cell_type": "code",
   "execution_count": 12,
   "metadata": {},
   "outputs": [],
   "source": [
    "age=(2020-birthYear+1)"
   ]
  },
  {
   "cell_type": "code",
   "execution_count": 13,
   "metadata": {},
   "outputs": [
    {
     "name": "stdout",
     "output_type": "stream",
     "text": [
      "학생이 아닙니다\n"
     ]
    }
   ],
   "source": [
    "if 20<=age<=26: print(\"대학생\")\n",
    "elif 17<=age<20: print(\"고등학생\")\n",
    "elif 14<=age<17: print(\"중학생\")\n",
    "elif 8<=age<14: print(\"초등학생\")\n",
    "else: print(\"학생이 아닙니다\")"
   ]
  },
  {
   "cell_type": "markdown",
   "metadata": {},
   "source": [
    "# 2. 반복문"
   ]
  },
  {
   "cell_type": "markdown",
   "metadata": {},
   "source": [
    "### for문"
   ]
  },
  {
   "cell_type": "code",
   "execution_count": 19,
   "metadata": {
    "scrolled": true
   },
   "outputs": [
    {
     "name": "stdout",
     "output_type": "stream",
     "text": [
      "hello\n",
      "hello\n",
      "hello\n",
      "hello\n",
      "hello\n"
     ]
    }
   ],
   "source": [
    "for looper in[1,2,3,4,5]:\n",
    "    print(\"hello\")"
   ]
  },
  {
   "cell_type": "code",
   "execution_count": 20,
   "metadata": {},
   "outputs": [
    {
     "name": "stdout",
     "output_type": "stream",
     "text": [
      "1\n",
      "2\n",
      "3\n",
      "4\n",
      "5\n"
     ]
    }
   ],
   "source": [
    "for looper in[1,2,3,4,5]:print(looper)"
   ]
  },
  {
   "cell_type": "code",
   "execution_count": 2,
   "metadata": {},
   "outputs": [
    {
     "name": "stdout",
     "output_type": "stream",
     "text": [
      "hello\n",
      "hello\n",
      "hello\n",
      "hello\n",
      "hello\n",
      "hello\n",
      "hello\n",
      "hello\n",
      "hello\n",
      "hello\n",
      "hello\n",
      "hello\n",
      "hello\n",
      "hello\n",
      "hello\n"
     ]
    }
   ],
   "source": [
    "for looper in range(15):print(\"hello\")"
   ]
  },
  {
   "cell_type": "code",
   "execution_count": 39,
   "metadata": {},
   "outputs": [
    {
     "name": "stdout",
     "output_type": "stream",
     "text": [
      "0\n",
      "2\n",
      "4\n",
      "6\n",
      "8\n"
     ]
    }
   ],
   "source": [
    "for i in range(0,10,2): print(i)"
   ]
  },
  {
   "cell_type": "code",
   "execution_count": 42,
   "metadata": {},
   "outputs": [
    {
     "name": "stdout",
     "output_type": "stream",
     "text": [
      "s\n",
      "d\n",
      "f\n"
     ]
    }
   ],
   "source": [
    "for i in 'sdf': print(i)"
   ]
  },
  {
   "cell_type": "code",
   "execution_count": 43,
   "metadata": {},
   "outputs": [
    {
     "name": "stdout",
     "output_type": "stream",
     "text": [
      "gim\n",
      "zi\n",
      "mean\n"
     ]
    }
   ],
   "source": [
    "for i in ['gim','zi','mean']:print(i)"
   ]
  },
  {
   "cell_type": "markdown",
   "metadata": {},
   "source": [
    "### while문"
   ]
  },
  {
   "cell_type": "code",
   "execution_count": 44,
   "metadata": {},
   "outputs": [
    {
     "name": "stdout",
     "output_type": "stream",
     "text": [
      "1\n",
      "2\n",
      "3\n",
      "4\n",
      "5\n",
      "6\n",
      "7\n",
      "8\n",
      "9\n"
     ]
    }
   ],
   "source": [
    "i=1\n",
    "while i<10:\n",
    "    print(i)\n",
    "    i+=1;"
   ]
  },
  {
   "cell_type": "markdown",
   "metadata": {},
   "source": [
    "## 반복문 제어"
   ]
  },
  {
   "cell_type": "markdown",
   "metadata": {},
   "source": [
    "#### break문"
   ]
  },
  {
   "cell_type": "code",
   "execution_count": 51,
   "metadata": {},
   "outputs": [
    {
     "name": "stdout",
     "output_type": "stream",
     "text": [
      "0\n",
      "1\n",
      "2\n",
      "3\n",
      "4\n",
      "END\n"
     ]
    }
   ],
   "source": [
    "for i in range(10):\n",
    "    if i==5: break ##i가 5가 되면 i를 종료\n",
    "        \n",
    "    print(i)\n",
    "print(\"END\")"
   ]
  },
  {
   "cell_type": "markdown",
   "metadata": {},
   "source": [
    "### continue문"
   ]
  },
  {
   "cell_type": "code",
   "execution_count": 52,
   "metadata": {},
   "outputs": [
    {
     "name": "stdout",
     "output_type": "stream",
     "text": [
      "0\n",
      "1\n",
      "2\n",
      "3\n",
      "4\n",
      "6\n",
      "7\n",
      "8\n",
      "9\n",
      "END\n"
     ]
    }
   ],
   "source": [
    "for i in range(10):\n",
    "    if i==5: continue  ##i가 5가 되면 i를 출력하지 않음\n",
    "    print(i)\n",
    "print('END')"
   ]
  },
  {
   "cell_type": "markdown",
   "metadata": {},
   "source": [
    "### else문 : 어떤 조건이 완전히 끝났을때 한번 더 실행해 주는 역할"
   ]
  },
  {
   "cell_type": "code",
   "execution_count": 53,
   "metadata": {},
   "outputs": [
    {
     "name": "stdout",
     "output_type": "stream",
     "text": [
      "0\n",
      "1\n",
      "2\n",
      "3\n",
      "4\n",
      "5\n",
      "6\n",
      "7\n",
      "8\n",
      "9\n",
      "end\n"
     ]
    }
   ],
   "source": [
    "for i in range(10):\n",
    "    print(i)\n",
    "else:\n",
    "    print(\"end\")"
   ]
  },
  {
   "cell_type": "markdown",
   "metadata": {},
   "source": [
    "# 실습- 구구단\n"
   ]
  },
  {
   "cell_type": "code",
   "execution_count": 54,
   "metadata": {},
   "outputs": [
    {
     "name": "stdout",
     "output_type": "stream",
     "text": [
      "구구단 몇단을 계산할까?\n"
     ]
    }
   ],
   "source": [
    "print(\"구구단 몇단을 계산할까?\")"
   ]
  },
  {
   "cell_type": "code",
   "execution_count": 55,
   "metadata": {},
   "outputs": [
    {
     "name": "stdout",
     "output_type": "stream",
     "text": [
      "숫자를 입력하세요3\n"
     ]
    }
   ],
   "source": [
    "num=int(input(\"숫자를 입력하세요\"))"
   ]
  },
  {
   "cell_type": "code",
   "execution_count": 61,
   "metadata": {},
   "outputs": [
    {
     "name": "stdout",
     "output_type": "stream",
     "text": [
      "구구단3을 계산한다\n",
      "0\n",
      "3\n",
      "6\n",
      "9\n",
      "12\n",
      "15\n",
      "18\n",
      "21\n",
      "24\n",
      "27\n"
     ]
    }
   ],
   "source": [
    "print('구구단%s을 계산한다'%(num))\n",
    "for i in range (10):print(num*i)"
   ]
  },
  {
   "cell_type": "markdown",
   "metadata": {},
   "source": [
    "# 정답"
   ]
  },
  {
   "cell_type": "code",
   "execution_count": 62,
   "metadata": {},
   "outputs": [
    {
     "name": "stdout",
     "output_type": "stream",
     "text": [
      "5\n"
     ]
    }
   ],
   "source": [
    "user_input=input()"
   ]
  },
  {
   "cell_type": "code",
   "execution_count": 63,
   "metadata": {},
   "outputs": [
    {
     "name": "stdout",
     "output_type": "stream",
     "text": [
      "구구단 5 단을 계산한다\n"
     ]
    }
   ],
   "source": [
    "print(\"구구단\",user_input,\"단을 계산한다\")"
   ]
  },
  {
   "cell_type": "code",
   "execution_count": 64,
   "metadata": {},
   "outputs": [],
   "source": [
    "int_input=int(user_input)"
   ]
  },
  {
   "cell_type": "code",
   "execution_count": 66,
   "metadata": {},
   "outputs": [
    {
     "name": "stdout",
     "output_type": "stream",
     "text": [
      "5 X 0 = 0\n",
      "5 X 1 = 5\n",
      "5 X 2 = 10\n",
      "5 X 3 = 15\n",
      "5 X 4 = 20\n",
      "5 X 5 = 25\n",
      "5 X 6 = 30\n",
      "5 X 7 = 35\n",
      "5 X 8 = 40\n",
      "5 X 9 = 45\n"
     ]
    }
   ],
   "source": [
    "for i in range(10):\n",
    "    result=int_input*i\n",
    "    print(user_input,\"X\",i,\"=\",result)"
   ]
  },
  {
   "cell_type": "markdown",
   "metadata": {},
   "source": [
    "# 문자열 역순 출력"
   ]
  },
  {
   "cell_type": "code",
   "execution_count": 67,
   "metadata": {},
   "outputs": [],
   "source": [
    "sentence=\"I love you \""
   ]
  },
  {
   "cell_type": "code",
   "execution_count": 69,
   "metadata": {},
   "outputs": [
    {
     "name": "stdout",
     "output_type": "stream",
     "text": [
      " uoy evol I\n"
     ]
    }
   ],
   "source": [
    "reverse_senetence=''\n",
    "for char in sentence: \n",
    "    reverse_senetence=char+reverse_senetence\n",
    "print(reverse_senetence)"
   ]
  },
  {
   "cell_type": "markdown",
   "metadata": {},
   "source": [
    "##### 십진수를 이진수로 변환"
   ]
  },
  {
   "cell_type": "code",
   "execution_count": 71,
   "metadata": {},
   "outputs": [
    {
     "name": "stdout",
     "output_type": "stream",
     "text": [
      "1010\n"
     ]
    }
   ],
   "source": [
    "decimal=10\n",
    "result=''\n",
    "while(decimal>0):\n",
    "    remainder=decimal%2\n",
    "    decimal=decimal//2\n",
    "    result=str(remainder)+result\n",
    "print(result)\n",
    "    "
   ]
  },
  {
   "cell_type": "markdown",
   "metadata": {},
   "source": [
    "# 실습 - Guess Number"
   ]
  },
  {
   "cell_type": "code",
   "execution_count": 1,
   "metadata": {},
   "outputs": [],
   "source": [
    "import random"
   ]
  },
  {
   "cell_type": "code",
   "execution_count": 2,
   "metadata": {},
   "outputs": [
    {
     "name": "stdout",
     "output_type": "stream",
     "text": [
      "숫자를 맞혀보세요(1~100)\n"
     ]
    }
   ],
   "source": [
    "guess_number = random.randint(1,100)\n",
    "print(\"숫자를 맞혀보세요(1~100)\")"
   ]
  },
  {
   "cell_type": "code",
   "execution_count": 3,
   "metadata": {},
   "outputs": [
    {
     "name": "stdout",
     "output_type": "stream",
     "text": [
      "40\n"
     ]
    }
   ],
   "source": [
    "user_input=int(input())"
   ]
  },
  {
   "cell_type": "code",
   "execution_count": 5,
   "metadata": {},
   "outputs": [
    {
     "name": "stdout",
     "output_type": "stream",
     "text": [
      "숫자가 너무 큽니다\n",
      "99\n",
      "숫자가 너무 큽니다\n",
      "98\n",
      "숫자가 너무 큽니다\n",
      "97\n",
      "숫자가 너무 큽니다\n",
      "94\n",
      "정답입니다 입력한 숫자는 94 입니다\n"
     ]
    }
   ],
   "source": [
    "while (user_input is not guess_number):\n",
    "    if user_input>guess_number:\n",
    "        print(\"숫자가 너무 큽니다\")\n",
    "    else:\n",
    "        print(\"숫자가 너무 작습니다.\")\n",
    "    user_input=int(input())\n",
    "else:\n",
    "    print(\"정답입니다\",\"입력한 숫자는\",user_input,'입니다')"
   ]
  },
  {
   "cell_type": "markdown",
   "metadata": {},
   "source": [
    "# 실습 - 연속적인 구구단 계산기"
   ]
  },
  {
   "cell_type": "code",
   "execution_count": 1,
   "metadata": {},
   "outputs": [
    {
     "name": "stdout",
     "output_type": "stream",
     "text": [
      "구구단 몇단을 계산할까요(1~9)\n"
     ]
    }
   ],
   "source": [
    "print(\"구구단 몇단을 계산할까요(1~9)\")"
   ]
  },
  {
   "cell_type": "code",
   "execution_count": 2,
   "metadata": {},
   "outputs": [
    {
     "name": "stdout",
     "output_type": "stream",
     "text": [
      "4\n"
     ]
    }
   ],
   "source": [
    "user_input=int(input())"
   ]
  },
  {
   "cell_type": "code",
   "execution_count": 3,
   "metadata": {},
   "outputs": [
    {
     "name": "stdout",
     "output_type": "stream",
     "text": [
      "구구단 4 단을 계산합니다.\n"
     ]
    }
   ],
   "source": [
    "print(\"구구단\",user_input,\"단을 계산합니다.\")"
   ]
  },
  {
   "cell_type": "code",
   "execution_count": 4,
   "metadata": {},
   "outputs": [
    {
     "name": "stdout",
     "output_type": "stream",
     "text": [
      "4 X 1 = 4\n",
      "4 X 2 = 8\n",
      "4 X 3 = 12\n",
      "4 X 4 = 16\n",
      "4 X 5 = 20\n",
      "4 X 6 = 24\n",
      "4 X 7 = 28\n",
      "4 X 8 = 32\n",
      "4 X 9 = 36\n",
      "구구단 몇단을 계산할까요(1~9)0\n",
      "END\n"
     ]
    }
   ],
   "source": [
    "while user_input is not 0:\n",
    "    if user_input is not 0:\n",
    "        for i in range(1,10):\n",
    "            result=user_input*i\n",
    "            print(user_input,\"X\",i,\"=\",result)\n",
    "        user_input=int(input(\"구구단 몇단을 계산할까요(1~9)\"))\n",
    "else:\n",
    "    print(\"END\")"
   ]
  },
  {
   "cell_type": "markdown",
   "metadata": {},
   "source": [
    "# 정답 - 연속적인 구구단 계산기"
   ]
  },
  {
   "cell_type": "code",
   "execution_count": 1,
   "metadata": {},
   "outputs": [
    {
     "name": "stdout",
     "output_type": "stream",
     "text": [
      "구구단 몇단을 계산할까요(1~9)\n",
      "10\n",
      "잘못입력하였습니다. 1부터 9 사이 숫자를 입력하세요\n",
      "5\n",
      "구구단 5 단을 계산합니다.\n",
      "5 X 1 = 5\n",
      "5 X 2 = 10\n",
      "5 X 3 = 15\n",
      "5 X 4 = 20\n",
      "5 X 5 = 25\n",
      "5 X 6 = 30\n",
      "5 X 7 = 35\n",
      "5 X 8 = 40\n",
      "5 X 9 = 45\n",
      "구구단 몇 단을 계산할까요?(1~9)\n",
      "0\n",
      "구구단 계임을 종료합니다.\n"
     ]
    }
   ],
   "source": [
    "print(\"구구단 몇단을 계산할까요(1~9)\")\n",
    "x=1\n",
    "while(x is not 0):\n",
    "    x=int(input())\n",
    "    if x==0: break\n",
    "    if not(1<=x<=9):\n",
    "        print(\"잘못입력하였습니다. 1부터 9 사이 숫자를 입력하세요\")\n",
    "        continue\n",
    "    else: \n",
    "        print(\"구구단\",str(x),\"단을 계산합니다.\")\n",
    "        for i in range(1,10):\n",
    "            print(str(x),\"X\",str(i),\"=\",str(x*i))\n",
    "        print(\"구구단 몇 단을 계산할까요?(1~9)\")\n",
    "print(\"구구단 계임을 종료합니다.\")"
   ]
  },
  {
   "cell_type": "markdown",
   "metadata": {},
   "source": [
    "## 수정 - 연속적인 구구단 계산기"
   ]
  },
  {
   "cell_type": "code",
   "execution_count": 4,
   "metadata": {},
   "outputs": [
    {
     "name": "stdout",
     "output_type": "stream",
     "text": [
      "구구단 몇단을 계산할까요(1~9)\n",
      "10\n",
      "잘못입력하였습니다. 1부터 9사이 숫자를 입력하세요\n",
      "5\n",
      "구구단 5 단을 계산합니다.\n",
      "5 X 1 = 5\n",
      "5 X 2 = 10\n",
      "5 X 3 = 15\n",
      "5 X 4 = 20\n",
      "5 X 5 = 25\n",
      "5 X 6 = 30\n",
      "5 X 7 = 35\n",
      "5 X 8 = 40\n",
      "5 X 9 = 45\n",
      "구구단 몇단을 계산할까요(1~9)\n",
      "11\n",
      "잘못입력하였습니다. 1부터 9사이 숫자를 입력하세요\n",
      "0\n",
      "END\n"
     ]
    }
   ],
   "source": [
    "print(\"구구단 몇단을 계산할까요(1~9)\")\n",
    "user_input=1\n",
    "while (user_input is not 0):\n",
    "    user_input=int(input())\n",
    "    if user_input==0:break\n",
    "    if 1<=user_input<=9:\n",
    "        print(\"구구단\",user_input,\"단을 계산합니다.\")\n",
    "        for i in range(1,10):\n",
    "            result=user_input*i\n",
    "            print(user_input,\"X\",i,\"=\",result)\n",
    "        print(\"구구단 몇단을 계산할까요(1~9)\")\n",
    "    else:\n",
    "        print(\"잘못입력하였습니다. 1부터 9사이 숫자를 입력하세요\")\n",
    "        continue\n",
    "\n",
    "print(\"END\")"
   ]
  },
  {
   "cell_type": "markdown",
   "metadata": {},
   "source": [
    "# 실습 - 평균 구하기"
   ]
  },
  {
   "cell_type": "code",
   "execution_count": 5,
   "metadata": {},
   "outputs": [
    {
     "name": "stdout",
     "output_type": "stream",
     "text": [
      "A\n",
      "B\n",
      "C\n",
      "D\n",
      "E\n",
      "[[49, 80, 20, 100, 80], [43, 60, 85, 30, 90], [49, 82, 48, 50, 100]]\n"
     ]
    }
   ],
   "source": [
    "student=['A','B','C','D','E']\n",
    "for stduentt in 'ABCDE':print(stduentt)\n",
    "kor_score=[49,80,20,100,80]\n",
    "math_score=[43,60,85,30,90]\n",
    "eng_score=[49,82,48,50,100]\n",
    "midterm_score=[kor_score,math_score,eng_score]\n",
    "\n",
    "print(midterm_score)"
   ]
  },
  {
   "cell_type": "code",
   "execution_count": 6,
   "metadata": {},
   "outputs": [
    {
     "name": "stdout",
     "output_type": "stream",
     "text": [
      "0 : 49\n",
      "1 : 43\n",
      "2 : 49\n",
      "49\n",
      "A 16.333333333333332\n",
      "0 : 80\n",
      "1 : 60\n",
      "2 : 82\n",
      "82\n",
      "B 27.333333333333332\n",
      "0 : 20\n",
      "1 : 85\n",
      "2 : 48\n",
      "48\n",
      "C 16.0\n",
      "0 : 100\n",
      "1 : 30\n",
      "2 : 50\n",
      "50\n",
      "D 16.666666666666668\n",
      "0 : 80\n",
      "1 : 90\n",
      "2 : 100\n",
      "100\n",
      "E 33.333333333333336\n"
     ]
    }
   ],
   "source": [
    "num=0\n",
    "for i in \"ABCDE\":\n",
    "    \n",
    "    for j in range(3):\n",
    "        \n",
    "        sum=0\n",
    "        sum+=midterm_score[j][num]\n",
    "        print(j,\":\",sum)\n",
    "    num+=1\n",
    "    print(sum)\n",
    "    avg=sum/3\n",
    "    print(i,avg)\n"
   ]
  },
  {
   "cell_type": "code",
   "execution_count": 7,
   "metadata": {},
   "outputs": [
    {
     "name": "stdout",
     "output_type": "stream",
     "text": [
      "sum 141\n",
      "avg 47.0\n",
      "A 47.0\n",
      "sum 222\n",
      "avg 74.0\n",
      "A 74.0\n",
      "sum 153\n",
      "avg 51.0\n",
      "A 51.0\n",
      "sum 180\n",
      "avg 60.0\n",
      "A 60.0\n",
      "sum 270\n",
      "avg 90.0\n",
      "A 90.0\n",
      "sum 141\n",
      "avg 47.0\n",
      "B 47.0\n",
      "sum 222\n",
      "avg 74.0\n",
      "B 74.0\n",
      "sum 153\n",
      "avg 51.0\n",
      "B 51.0\n",
      "sum 180\n",
      "avg 60.0\n",
      "B 60.0\n",
      "sum 270\n",
      "avg 90.0\n",
      "B 90.0\n",
      "sum 141\n",
      "avg 47.0\n",
      "C 47.0\n",
      "sum 222\n",
      "avg 74.0\n",
      "C 74.0\n",
      "sum 153\n",
      "avg 51.0\n",
      "C 51.0\n",
      "sum 180\n",
      "avg 60.0\n",
      "C 60.0\n",
      "sum 270\n",
      "avg 90.0\n",
      "C 90.0\n",
      "sum 141\n",
      "avg 47.0\n",
      "D 47.0\n",
      "sum 222\n",
      "avg 74.0\n",
      "D 74.0\n",
      "sum 153\n",
      "avg 51.0\n",
      "D 51.0\n",
      "sum 180\n",
      "avg 60.0\n",
      "D 60.0\n",
      "sum 270\n",
      "avg 90.0\n",
      "D 90.0\n",
      "sum 141\n",
      "avg 47.0\n",
      "E 47.0\n",
      "sum 222\n",
      "avg 74.0\n",
      "E 74.0\n",
      "sum 153\n",
      "avg 51.0\n",
      "E 51.0\n",
      "sum 180\n",
      "avg 60.0\n",
      "E 60.0\n",
      "sum 270\n",
      "avg 90.0\n",
      "E 90.0\n"
     ]
    }
   ],
   "source": [
    "num=0\n",
    "for i in \"ABCDE\":\n",
    "    \n",
    "    for j in range(5):\n",
    "        sum=0\n",
    "        sum=midterm_score[num][j]+midterm_score[num+1][j]+midterm_score[num+2][j]\n",
    "        \n",
    "        print(\"sum\",sum)\n",
    "        avg=sum/3\n",
    "        print(\"avg\",avg)\n",
    "        print(i,avg)\n",
    "   \n"
   ]
  },
  {
   "cell_type": "code",
   "execution_count": 8,
   "metadata": {},
   "outputs": [
    {
     "name": "stdout",
     "output_type": "stream",
     "text": [
      "sum 141\n",
      "avg 47.0\n",
      "A 47.0\n",
      "sum 141\n",
      "avg 47.0\n",
      "B 47.0\n",
      "sum 141\n",
      "avg 47.0\n",
      "C 47.0\n",
      "sum 141\n",
      "avg 47.0\n",
      "D 47.0\n",
      "sum 141\n",
      "avg 47.0\n",
      "E 47.0\n",
      "sum 222\n",
      "avg 74.0\n"
     ]
    },
    {
     "ename": "IndexError",
     "evalue": "string index out of range",
     "output_type": "error",
     "traceback": [
      "\u001b[1;31m---------------------------------------------------------------------------\u001b[0m",
      "\u001b[1;31mIndexError\u001b[0m                                Traceback (most recent call last)",
      "\u001b[1;32m<ipython-input-8-b93784041adb>\u001b[0m in \u001b[0;36m<module>\u001b[1;34m\u001b[0m\n\u001b[0;32m     10\u001b[0m         \u001b[0mavg\u001b[0m\u001b[1;33m=\u001b[0m\u001b[0msum\u001b[0m\u001b[1;33m/\u001b[0m\u001b[1;36m3\u001b[0m\u001b[1;33m\u001b[0m\u001b[1;33m\u001b[0m\u001b[0m\n\u001b[0;32m     11\u001b[0m         \u001b[0mprint\u001b[0m\u001b[1;33m(\u001b[0m\u001b[1;34m\"avg\"\u001b[0m\u001b[1;33m,\u001b[0m\u001b[0mavg\u001b[0m\u001b[1;33m)\u001b[0m\u001b[1;33m\u001b[0m\u001b[1;33m\u001b[0m\u001b[0m\n\u001b[1;32m---> 12\u001b[1;33m         \u001b[0mprint\u001b[0m\u001b[1;33m(\u001b[0m\u001b[0mstr\u001b[0m\u001b[1;33m(\u001b[0m\u001b[0mi\u001b[0m\u001b[1;33m[\u001b[0m\u001b[0mj\u001b[0m\u001b[1;33m]\u001b[0m\u001b[1;33m)\u001b[0m\u001b[1;33m,\u001b[0m\u001b[0mavg\u001b[0m\u001b[1;33m)\u001b[0m\u001b[1;33m\u001b[0m\u001b[1;33m\u001b[0m\u001b[0m\n\u001b[0m",
      "\u001b[1;31mIndexError\u001b[0m: string index out of range"
     ]
    }
   ],
   "source": [
    "num=0\n",
    "\n",
    "for j in range(5):\n",
    "    for i in student:\n",
    "        sum=0\n",
    "        sum=midterm_score[num][j]+midterm_score[num+1][j]+midterm_score[num+2][j]\n",
    "\n",
    "        print(\"sum\",sum)\n",
    "        avg=sum/3\n",
    "        print(\"avg\",avg)\n",
    "        print(str(i[j]),avg)"
   ]
  },
  {
   "cell_type": "code",
   "execution_count": null,
   "metadata": {},
   "outputs": [],
   "source": [
    "for i in range(5):\n",
    "    sum=0\n",
    "    num=0\n",
    "    sum=midterm_score[num][i]"
   ]
  },
  {
   "cell_type": "markdown",
   "metadata": {},
   "source": [
    "# 정답- 평균 구하기\n"
   ]
  },
  {
   "cell_type": "code",
   "execution_count": 18,
   "metadata": {},
   "outputs": [
    {
     "name": "stdout",
     "output_type": "stream",
     "text": [
      "[49, 80, 20, 100, 80]\n",
      "49\n",
      "80\n",
      "20\n",
      "100\n",
      "80\n",
      "[43, 60, 85, 30, 90]\n",
      "43\n",
      "60\n",
      "85\n",
      "30\n",
      "90\n",
      "[49, 82, 48, 50, 100]\n",
      "49\n",
      "82\n",
      "48\n",
      "50\n",
      "100\n",
      "[47.0, 74.0, 51.0, 60.0, 90.0]\n"
     ]
    }
   ],
   "source": [
    "\n",
    "kor_score=[49,80,20,100,80]\n",
    "math_score=[43,60,85,30,90]\n",
    "eng_score=[49,82,48,50,100]\n",
    "midterm_score=[kor_score,math_score,eng_score]\n",
    "\n",
    "student_score=[0,0,0,0,0]\n",
    "i=0\n",
    "for subject in midterm_score:\n",
    "    print(subject)\n",
    "    for score in subject:\n",
    "        print(score)\n",
    "        student_score[i]+=score\n",
    "        i+=1\n",
    "    i=0\n",
    "else:\n",
    "    a,b,c,d,e=student_score\n",
    "    student_avg=[a/3,b/3,c/3,d/3,e/3]\n",
    "    print(student_avg)\n",
    "    "
   ]
  },
  {
   "cell_type": "markdown",
   "metadata": {},
   "source": [
    "## def 함수: return "
   ]
  },
  {
   "cell_type": "code",
   "execution_count": null,
   "metadata": {},
   "outputs": [],
   "source": []
  },
  {
   "cell_type": "code",
   "execution_count": 17,
   "metadata": {},
   "outputs": [
    {
     "name": "stdout",
     "output_type": "stream",
     "text": [
      "15\n",
      "50\n",
      "25.0\n"
     ]
    }
   ],
   "source": [
    "def addition(x,y): return x+y\n",
    "def multipication(x,y):return x*y\n",
    "def divided_by_2(x): return x/2\n",
    "\n",
    "if __name__=='__main__':\n",
    "    print(addition(10,5))\n",
    "    print(multipication(10,5))\n",
    "    print(divided_by_2(50))"
   ]
  },
  {
   "cell_type": "code",
   "execution_count": 8,
   "metadata": {},
   "outputs": [
    {
     "data": {
      "text/plain": [
       "25.0"
      ]
     },
     "execution_count": 8,
     "metadata": {},
     "output_type": "execute_result"
    }
   ],
   "source": [
    "import 사다리꼴넓이공식 as ta\n",
    "ta.addition(10,5)\n",
    "ta.multipication(10,5)\n",
    "ta.divided_by_2(50)\n",
    "\n",
    "\n"
   ]
  },
  {
   "cell_type": "markdown",
   "metadata": {},
   "source": [
    "## 실습 - 사다리꼴 넓이 구하"
   ]
  },
  {
   "cell_type": "code",
   "execution_count": 22,
   "metadata": {},
   "outputs": [
    {
     "name": "stdout",
     "output_type": "stream",
     "text": [
      "밑변의 길이는?3\n",
      "윗변의 길이는?2\n",
      "높이는?5\n",
      "넓이는: 12.5\n"
     ]
    }
   ],
   "source": [
    "def addition(x,y): return x+y\n",
    "def multipication(x,y):return x*y\n",
    "def divided_by_2(x): return x/2\n",
    "def main():\n",
    "    base_line=float(input(\"밑변의 길이는?\"))\n",
    "    uppder_edge=float(input(\"윗변의 길이는?\"))\n",
    "    height=float(input(\"높이는?\"))\n",
    "    \n",
    "    print(\"넓이는:\",divided_by_2(addition(base_line,uppder_edge)*height))\n",
    "    \n",
    "if __name__=='__main__':\n",
    "    main()\n",
    "    "
   ]
  },
  {
   "cell_type": "code",
   "execution_count": null,
   "metadata": {},
   "outputs": [],
   "source": []
  },
  {
   "cell_type": "code",
   "execution_count": null,
   "metadata": {},
   "outputs": [],
   "source": []
  },
  {
   "cell_type": "code",
   "execution_count": null,
   "metadata": {},
   "outputs": [],
   "source": []
  },
  {
   "cell_type": "code",
   "execution_count": null,
   "metadata": {},
   "outputs": [],
   "source": []
  },
  {
   "cell_type": "code",
   "execution_count": null,
   "metadata": {},
   "outputs": [],
   "source": []
  },
  {
   "cell_type": "code",
   "execution_count": null,
   "metadata": {},
   "outputs": [],
   "source": []
  }
 ],
 "metadata": {
  "kernelspec": {
   "display_name": "Python 3",
   "language": "python",
   "name": "python3"
  },
  "language_info": {
   "codemirror_mode": {
    "name": "ipython",
    "version": 3
   },
   "file_extension": ".py",
   "mimetype": "text/x-python",
   "name": "python",
   "nbconvert_exporter": "python",
   "pygments_lexer": "ipython3",
   "version": "3.7.4"
  }
 },
 "nbformat": 4,
 "nbformat_minor": 2
}
