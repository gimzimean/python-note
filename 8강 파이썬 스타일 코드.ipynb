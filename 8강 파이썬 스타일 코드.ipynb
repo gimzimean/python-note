{
 "cells": [
  {
   "cell_type": "markdown",
   "metadata": {},
   "source": [
    "# 파이썬 스타일 코드 \n",
    "# : 파이썬에서 기본적으로 제공하는 문법들을 활용하여 코딩하는 것"
   ]
  },
  {
   "cell_type": "code",
   "execution_count": 1,
   "metadata": {},
   "outputs": [
    {
     "name": "stdout",
     "output_type": "stream",
     "text": [
      "redbluegreenyellow\n"
     ]
    }
   ],
   "source": [
    "colors=['red','blue','green','yellow']\n",
    "result=''\n",
    "for s in colors:\n",
    "    result+=s\n",
    "print(result)"
   ]
  },
  {
   "cell_type": "code",
   "execution_count": 2,
   "metadata": {},
   "outputs": [
    {
     "name": "stdout",
     "output_type": "stream",
     "text": [
      "redbluegreenyellow\n"
     ]
    }
   ],
   "source": [
    "colors=['red','blue','green','yellow']\n",
    "result=''.join(colors)\n",
    "print(result)\n"
   ]
  },
  {
   "cell_type": "markdown",
   "metadata": {},
   "source": [
    "### (1) split() : 문자열의 값을 특정 값을 기준으로 분리하여 리스트형태로 변환하는 방법"
   ]
  },
  {
   "cell_type": "code",
   "execution_count": 3,
   "metadata": {},
   "outputs": [
    {
     "name": "stdout",
     "output_type": "stream",
     "text": [
      "['zero one', 'two three']\n"
     ]
    }
   ],
   "source": [
    "items='zero one.two three'.split(\".\")\n",
    "print(items)"
   ]
  },
  {
   "cell_type": "code",
   "execution_count": 4,
   "metadata": {},
   "outputs": [
    {
     "name": "stdout",
     "output_type": "stream",
     "text": [
      "['zero', 'one', 'two', 'three']\n"
     ]
    }
   ],
   "source": [
    "items='zero one two three'.split()\n",
    "print(items)"
   ]
  },
  {
   "cell_type": "code",
   "execution_count": 5,
   "metadata": {},
   "outputs": [
    {
     "data": {
      "text/plain": [
       "['python', ' jquery', ' javascript']"
      ]
     },
     "execution_count": 5,
     "metadata": {},
     "output_type": "execute_result"
    }
   ],
   "source": [
    "example = 'python, jquery, javascript'\n",
    "example.split(\",\")"
   ]
  },
  {
   "cell_type": "code",
   "execution_count": 6,
   "metadata": {},
   "outputs": [
    {
     "name": "stdout",
     "output_type": "stream",
     "text": [
      "python  jquery  javascript\n"
     ]
    }
   ],
   "source": [
    "a,b,c=example.split(\",\")\n",
    "print(a,b,c)"
   ]
  },
  {
   "cell_type": "markdown",
   "metadata": {},
   "source": [
    "## (2) join() : 문자열로 구성된 리스트를 합쳐 하나의 문자열로 변환"
   ]
  },
  {
   "cell_type": "code",
   "execution_count": 7,
   "metadata": {},
   "outputs": [
    {
     "data": {
      "text/plain": [
       "'red,blue,green,yellow'"
      ]
     },
     "execution_count": 7,
     "metadata": {},
     "output_type": "execute_result"
    }
   ],
   "source": [
    "result=','.join(colors)\n",
    "result"
   ]
  },
  {
   "cell_type": "markdown",
   "metadata": {},
   "source": [
    "# 2. 리스트 컴프리헨션 다루기 : 기존 리스트형을 사용하여 간단하게 새로운 리스트를 만드는 법\n"
   ]
  },
  {
   "cell_type": "code",
   "execution_count": 8,
   "metadata": {},
   "outputs": [
    {
     "name": "stdout",
     "output_type": "stream",
     "text": [
      "[0, 1, 2, 3, 4, 5, 6, 7, 8, 9]\n"
     ]
    }
   ],
   "source": [
    "#일반적인 반복문 + 리스트\n",
    "result=[]\n",
    "for i in range(10):\n",
    "    result.append(i)\n",
    "print(result)"
   ]
  },
  {
   "cell_type": "code",
   "execution_count": 9,
   "metadata": {},
   "outputs": [
    {
     "data": {
      "text/plain": [
       "[0, 1, 2, 3, 4, 5, 6, 7, 8, 9]"
      ]
     },
     "execution_count": 9,
     "metadata": {},
     "output_type": "execute_result"
    }
   ],
   "source": [
    "# 컴프리헨션\n",
    "result=[i for i in range(10)]\n",
    "result"
   ]
  },
  {
   "cell_type": "markdown",
   "metadata": {},
   "source": [
    "## (1) 필터링 : if 문과 함께 사용하는 리스트 컴프리헨션"
   ]
  },
  {
   "cell_type": "code",
   "execution_count": 10,
   "metadata": {},
   "outputs": [
    {
     "name": "stdout",
     "output_type": "stream",
     "text": [
      "[0, 2, 4, 6, 8]\n"
     ]
    }
   ],
   "source": [
    "#일반적인 반복문 + 리스트\n",
    "result=[]\n",
    "for i in range(10):\n",
    "     if i%2==0:\n",
    "        result.append(i)\n",
    "        \n",
    "print(result)"
   ]
  },
  {
   "cell_type": "code",
   "execution_count": 11,
   "metadata": {},
   "outputs": [
    {
     "data": {
      "text/plain": [
       "[0, 2, 4, 6, 8]"
      ]
     },
     "execution_count": 11,
     "metadata": {},
     "output_type": "execute_result"
    }
   ],
   "source": [
    "# 컴프리헨션\n",
    "result=[i for i in range(10) if i%2==0]\n",
    "result"
   ]
  },
  {
   "cell_type": "code",
   "execution_count": 12,
   "metadata": {},
   "outputs": [
    {
     "data": {
      "text/plain": [
       "[0, 10, 2, 10, 4, 10, 6, 10, 8, 10]"
      ]
     },
     "execution_count": 12,
     "metadata": {},
     "output_type": "execute_result"
    }
   ],
   "source": [
    "# else\n",
    "#if 문을 앞으로 옮겨 else 문과 함께 사용하면 , 조건을 만족하지 않을 때 else 뒤에 i 의 값을 할당하는 코드를 작성함\n",
    "\n",
    "result=[i if i%2==0 else 10 for i in range(10) ]\n",
    "result"
   ]
  },
  {
   "cell_type": "markdown",
   "metadata": {},
   "source": [
    "## (2) 중첩반복문 : 리스트 2개 섞어 사용"
   ]
  },
  {
   "cell_type": "code",
   "execution_count": 13,
   "metadata": {},
   "outputs": [
    {
     "data": {
      "text/plain": [
       "['hw',\n",
       " 'ho',\n",
       " 'hr',\n",
       " 'hl',\n",
       " 'hd',\n",
       " 'ew',\n",
       " 'eo',\n",
       " 'er',\n",
       " 'el',\n",
       " 'ed',\n",
       " 'lw',\n",
       " 'lo',\n",
       " 'lr',\n",
       " 'll',\n",
       " 'ld',\n",
       " 'lw',\n",
       " 'lo',\n",
       " 'lr',\n",
       " 'll',\n",
       " 'ld',\n",
       " 'ow',\n",
       " 'oo',\n",
       " 'or',\n",
       " 'ol',\n",
       " 'od']"
      ]
     },
     "execution_count": 13,
     "metadata": {},
     "output_type": "execute_result"
    }
   ],
   "source": [
    "word_1=\"hello\"\n",
    "word_2=\"world\"\n",
    "\n",
    "result=[i+j for i in word_1 for j in word_2]\n",
    "result"
   ]
  },
  {
   "cell_type": "code",
   "execution_count": 14,
   "metadata": {},
   "outputs": [
    {
     "data": {
      "text/plain": [
       "['AD', 'AE', 'BD', 'BE', 'BA', 'CD', 'CE', 'CA']"
      ]
     },
     "execution_count": 14,
     "metadata": {},
     "output_type": "execute_result"
    }
   ],
   "source": [
    "#### 중첩 반복문에서도 필터링을 적용할 수 있다 . 다음과 같이 반복문 끝에 if 문을 추가하면 된다\n",
    "#### 앞에 있는 for 문이 먼저 실행된 후 , 뒤의 for 문이 실행되었다 . 그래서 다음 코드의 경우 \n",
    "#### A 가 먼저 고정되고 , D, E, A 를 차례대로 붙여 결과가 출력된다\n",
    "\n",
    "case_1=[\"A\",\"B\",\"C\"]\n",
    "case_2=[\"D\",\"E\",\"A\"]\n",
    "result=[i+j for i in case_1 for j in case_2 if not(i==j)]\n",
    "result"
   ]
  },
  {
   "cell_type": "markdown",
   "metadata": {},
   "source": [
    "## (3) 이차원 리스트 : 열(row)단위로 저장하는 이차원 리스트"
   ]
  },
  {
   "cell_type": "code",
   "execution_count": 15,
   "metadata": {},
   "outputs": [
    {
     "name": "stdout",
     "output_type": "stream",
     "text": [
      "['The', 'quick', 'brown', 'fox', 'jumps', 'over', 'the', 'lazy', 'dog']\n"
     ]
    }
   ],
   "source": [
    "words='The quick brown fox jumps over the lazy dog'.split()\n",
    "print(words)\n"
   ]
  },
  {
   "cell_type": "code",
   "execution_count": 16,
   "metadata": {},
   "outputs": [],
   "source": [
    "##### 리스트의 각 요소를 대문자, 소문자, 길이로 변환하여 이차원 리스트로 변환\n",
    "\n",
    "stuff=[[w.upper(),w.lower(),len(w)] for w in words] "
   ]
  },
  {
   "cell_type": "code",
   "execution_count": 17,
   "metadata": {},
   "outputs": [
    {
     "data": {
      "text/plain": [
       "[['THE', 'the', 3],\n",
       " ['QUICK', 'quick', 5],\n",
       " ['BROWN', 'brown', 5],\n",
       " ['FOX', 'fox', 3],\n",
       " ['JUMPS', 'jumps', 5],\n",
       " ['OVER', 'over', 4],\n",
       " ['THE', 'the', 3],\n",
       " ['LAZY', 'lazy', 4],\n",
       " ['DOG', 'dog', 3]]"
      ]
     },
     "execution_count": 17,
     "metadata": {},
     "output_type": "execute_result"
    }
   ],
   "source": [
    "stuff"
   ]
  },
  {
   "cell_type": "code",
   "execution_count": 1,
   "metadata": {},
   "outputs": [
    {
     "data": {
      "text/plain": [
       "[['AD', 'BD', 'CD'], ['AE', 'BE', 'CE'], ['AA', 'BA', 'CA']]"
      ]
     },
     "execution_count": 1,
     "metadata": {},
     "output_type": "execute_result"
    }
   ],
   "source": [
    "## 위의 중첩문과 차이점 :\n",
    "## 뒤의 for 문이 고정된다 . 즉 , A 부터 고정되는 것이 아니라 case_2 의 첫 번째 요소인 D 가 고정되고 A, B, C 가\n",
    "## 차례로 D 앞에 붙는다.\n",
    "case_1=[\"A\",\"B\",\"C\"]\n",
    "case_2=[\"D\",\"E\",\"A\"]\n",
    "result=[[i+j for i in case_1]for j in case_2]\n",
    "result"
   ]
  },
  {
   "attachments": {
    "image.png": {
     "image/png": "[encoded data removed]"
    }
   },
   "cell_type": "markdown",
   "metadata": {},
   "source": [
    "![image.png](attachment:image.png)"
   ]
  },
  {
   "cell_type": "code",
   "execution_count": 19,
   "metadata": {},
   "outputs": [],
   "source": [
    "## 일반적인 반목문 + 리스트\n",
    "\n",
    "def sclar_vector_product(sclar, vector):\n",
    "    result=[]\n",
    "    for value in vector:\n",
    "        result.append(sclar*vector)\n",
    "    return result\n",
    "\n",
    "iteration_max=5\n",
    "\n",
    "vector=list(range(iteration_max))\n",
    "\n",
    "sclar=2\n",
    "\n",
    "for _ in range(iteration_max):\n",
    "    sclar_vector_product(sclar,vector)\n"
   ]
  },
  {
   "cell_type": "code",
   "execution_count": null,
   "metadata": {},
   "outputs": [],
   "source": [
    "## 리스트 컴프리헨션\n",
    "iteration_max=10000\n",
    "vector=list(range(iteration_max))\n",
    "sclar=2\n",
    "\n",
    "for _ in range(iteration_max):\n",
    "    [sclar*vector for value in range(iteration_max)]\n"
   ]
  },
  {
   "cell_type": "markdown",
   "metadata": {},
   "source": [
    "# 3. 다양한 방식의 리스트값 출력"
   ]
  },
  {
   "cell_type": "markdown",
   "metadata": {},
   "source": [
    "## (1) enumerate() : 리스트 값을 추출할 때 인덱스를 붙여 함께 출력\n",
    "- 주로 딕셔너리 형\n",
    "- 인덱스 = key\n",
    "- 단어 = value\n",
    "- 쌍으로 묶어 결과 출력"
   ]
  },
  {
   "cell_type": "code",
   "execution_count": 1,
   "metadata": {},
   "outputs": [
    {
     "name": "stdout",
     "output_type": "stream",
     "text": [
      "0 tic\n",
      "1 tac\n",
      "2 toc\n"
     ]
    }
   ],
   "source": [
    "for i,v in enumerate(['tic','tac','toc']):\n",
    "    print(i,v)"
   ]
  },
  {
   "cell_type": "code",
   "execution_count": 2,
   "metadata": {},
   "outputs": [
    {
     "data": {
      "text/plain": [
       "{0: 'TEAMLAB',\n",
       " 1: 'is',\n",
       " 2: 'an',\n",
       " 3: 'academic',\n",
       " 4: 'institute',\n",
       " 5: 'located',\n",
       " 6: 'in',\n",
       " 7: 'South',\n",
       " 8: 'Korea'}"
      ]
     },
     "execution_count": 2,
     "metadata": {},
     "output_type": "execute_result"
    }
   ],
   "source": [
    "{i:j for i, j in enumerate(\"TEAMLAB is an academic institute located in South Korea\".split())}"
   ]
  },
  {
   "cell_type": "markdown",
   "metadata": {},
   "source": [
    "## (2) zip() : 1개 이상의 리스트값이 같은 인덱스에 있을 때 \"병렬\"로 묶는 함수\n",
    "- 같은 위치에 있는 값끼리만 더할 수 있음 \n"
   ]
  },
  {
   "cell_type": "code",
   "execution_count": 3,
   "metadata": {},
   "outputs": [
    {
     "name": "stdout",
     "output_type": "stream",
     "text": [
      "a1 b1\n",
      "a2 b2\n",
      "a3 b3\n"
     ]
    }
   ],
   "source": [
    "alist=['a1','a2','a3']\n",
    "blist=['b1','b2','b3']\n",
    "\n",
    "for a,b in zip(alist, blist):\n",
    "    print(a,b)"
   ]
  },
  {
   "cell_type": "code",
   "execution_count": 4,
   "metadata": {},
   "outputs": [
    {
     "name": "stdout",
     "output_type": "stream",
     "text": [
      "(1, 10, 100) (2, 20, 200) (3, 30, 300)\n"
     ]
    }
   ],
   "source": [
    "a,b,c=zip((1,2,3),(10,20,30),(100,200,300))\n",
    "print(a,b,c)"
   ]
  },
  {
   "cell_type": "code",
   "execution_count": 5,
   "metadata": {},
   "outputs": [
    {
     "data": {
      "text/plain": [
       "[111, 222, 333]"
      ]
     },
     "execution_count": 5,
     "metadata": {},
     "output_type": "execute_result"
    }
   ],
   "source": [
    "[sum(x) for x in zip((1,2,3),(10,20,30),(100,200,300))]"
   ]
  },
  {
   "cell_type": "markdown",
   "metadata": {},
   "source": [
    "## (3) enumerate() & zip() \n"
   ]
  },
  {
   "cell_type": "code",
   "execution_count": 7,
   "metadata": {},
   "outputs": [
    {
     "name": "stdout",
     "output_type": "stream",
     "text": [
      "0 a1 b1\n",
      "1 a2 b2\n",
      "2 a3 b3\n"
     ]
    }
   ],
   "source": [
    "alist=['a1','a2','a3']\n",
    "blist=['b1','b2','b3']\n",
    "\n",
    "for i,(a,b) in enumerate(zip(alist, blist)):\n",
    "    print(i,a,b)"
   ]
  },
  {
   "cell_type": "markdown",
   "metadata": {},
   "source": [
    "## (4) lambda():  함수의 이름이 없어도 사용 가능, 익명 함수"
   ]
  },
  {
   "cell_type": "code",
   "execution_count": 10,
   "metadata": {},
   "outputs": [
    {
     "name": "stdout",
     "output_type": "stream",
     "text": [
      "5\n"
     ]
    }
   ],
   "source": [
    "## 일반 함수\n",
    "def f(x,y):\n",
    "    return x+y\n",
    "print(f(1,4))"
   ]
  },
  {
   "cell_type": "code",
   "execution_count": 14,
   "metadata": {},
   "outputs": [
    {
     "name": "stdout",
     "output_type": "stream",
     "text": [
      "5\n"
     ]
    }
   ],
   "source": [
    "## 람다 함수\n",
    "## 함수는 별도의 def 나 return 을 작성하지 않는다 . 단지 앞에는 매개변수의 \n",
    "## 이름을 , 뒤에는 매개변수가 반환하는 결과값인 x + y’ 를 작성하였다.\n",
    "\n",
    "f= lambda x,y: x+y\n",
    "print(f(1,4))"
   ]
  },
  {
   "cell_type": "code",
   "execution_count": 2,
   "metadata": {},
   "outputs": [
    {
     "name": "stdout",
     "output_type": "stream",
     "text": [
      "6\n"
     ]
    }
   ],
   "source": [
    "print((lambda x: x+1)(5)) # 인수 = argument"
   ]
  },
  {
   "cell_type": "markdown",
   "metadata": {},
   "source": [
    "# 4. 별표의 활용"
   ]
  },
  {
   "cell_type": "markdown",
   "metadata": {},
   "source": [
    " # (1) 가변인수(variable length)\n",
    "  "
   ]
  },
  {
   "cell_type": "markdown",
   "metadata": {},
   "source": [
    "#### 가변인수"
   ]
  },
  {
   "cell_type": "code",
   "execution_count": 3,
   "metadata": {},
   "outputs": [
    {
     "name": "stdout",
     "output_type": "stream",
     "text": [
      "1 (2, 3, 4, 5, 6)\n",
      "<class 'tuple'>\n"
     ]
    }
   ],
   "source": [
    "def asterisk_test(a,*args):\n",
    "    print(a,args)\n",
    "    print(type(args))\n",
    "asterisk_test(1,2,3,4,5,6)"
   ]
  },
  {
   "cell_type": "markdown",
   "metadata": {},
   "source": [
    "#### 키워드 가변 인수"
   ]
  },
  {
   "cell_type": "code",
   "execution_count": 5,
   "metadata": {},
   "outputs": [
    {
     "name": "stdout",
     "output_type": "stream",
     "text": [
      "1 {'b': 2, 'c': 3, 'd': 4, 'f': 5}\n",
      "<class 'dict'>\n"
     ]
    }
   ],
   "source": [
    "def asterisk_test(a,**kargs):\n",
    "    print(a,kargs)\n",
    "    print(type(kargs))\n",
    "asterisk_test(1, b=2,c=3,d=4,f=5)\n",
    "    "
   ]
  },
  {
   "cell_type": "markdown",
   "metadata": {},
   "source": [
    "# (2) 언패킹 기능\n",
    "- 여러개의 데이터를 담는 리스트, 튜플, 딕셔너리와 같은 자료형에서는 해당 데이터를 언패킹하는 기능을 한다"
   ]
  },
  {
   "cell_type": "code",
   "execution_count": 13,
   "metadata": {},
   "outputs": [
    {
     "name": "stdout",
     "output_type": "stream",
     "text": [
      "1 (2, 3, 4, 5)\n",
      "1 2 3 4 5\n",
      "<class 'tuple'>\n"
     ]
    }
   ],
   "source": [
    "def asterisk_test(a,args):\n",
    "    print(a,args) #왜냐하면 튜플의 값은 하나의 변수이므로 , 출력 시 괄호가 붙어 출력된다\n",
    "    print(a,*args) #변수 앞의 별표는 해당변수를 언패킹한다 . \n",
    "                    #즉 , 하나의 튜플 (2, 3, 4, 5, 이 아닌 각각의 변수로 존재하는 2, 3, 4 , 5, 6 으로 변경된다\n",
    "    print(type(args))\n",
    "asterisk_test(1,(2,3,4,5))"
   ]
  },
  {
   "cell_type": "code",
   "execution_count": 15,
   "metadata": {},
   "outputs": [
    {
     "name": "stdout",
     "output_type": "stream",
     "text": [
      "1 (2, 3, 4, 5)\n",
      "1 2 3 4 5\n",
      "<class 'tuple'>\n"
     ]
    }
   ],
   "source": [
    "def asterisk_test(a,*args):\n",
    "    print(a,args) #왜냐하면 튜플의 값은 하나의 변수이므로 , 출력 시 괄호가 붙어 출력된다\n",
    "    print(a,*args)\n",
    "    print(type(args))\n",
    "asterisk_test(1,*(2,3,4,5))"
   ]
  },
  {
   "cell_type": "code",
   "execution_count": 17,
   "metadata": {},
   "outputs": [
    {
     "name": "stdout",
     "output_type": "stream",
     "text": [
      "1 (2, 3, 4, 5)\n",
      "1 2 3 4 5\n",
      "<class 'tuple'>\n"
     ]
    }
   ],
   "source": [
    "asterisk_test(1,2,3,4,5) # 별표가 붙은 asterisk_test (1, *(2, 3, 4, 5, 의 형태로 값이 입력되었다 . \n",
    "                        # 즉 , 입력값은 뒤의 튜플 변수가 언패킹되어 다음처럼 입력된 것이다 (1,2,3,4,5)"
   ]
  },
  {
   "cell_type": "code",
   "execution_count": 19,
   "metadata": {},
   "outputs": [
    {
     "name": "stdout",
     "output_type": "stream",
     "text": [
      "[1, 2] [3, 4] [5, 6]\n",
      "[1, 2] [3, 4] [5, 6]\n"
     ]
    }
   ],
   "source": [
    "# 모두 기존의 튜플값을 언패킹하여 출력하는 결과는 같다\n",
    "a,b,c=([1,2],[3,4],[5,6])\n",
    "print(a,b,c)\n",
    "\n",
    "data=([1,2],[3,4],[5,6])\n",
    "print(*data)"
   ]
  },
  {
   "cell_type": "markdown",
   "metadata": {},
   "source": [
    "# ** zip( ) 함수와 함께 사용할 때 유용!"
   ]
  },
  {
   "cell_type": "code",
   "execution_count": 20,
   "metadata": {},
   "outputs": [
    {
     "name": "stdout",
     "output_type": "stream",
     "text": [
      "(1, 3, 5)\n",
      "<class 'tuple'>\n",
      "(2, 4, 6)\n",
      "<class 'tuple'>\n"
     ]
    }
   ],
   "source": [
    "for data in zip(*[[1,2],[3,4],[5,6]]):\n",
    "    print(data)\n",
    "    print(type(data))"
   ]
  },
  {
   "cell_type": "markdown",
   "metadata": {},
   "source": [
    "## 키워드 가변 인수와 마찬가지 두 개의 별표 를 사용할 경우 딕셔너리형을 언패킹\n",
    "- 딕셔너리형인 data 변수를 언패킹하여 키워드 매개변수를 사용하는 함수에 넣는 예제\n"
   ]
  },
  {
   "cell_type": "code",
   "execution_count": 23,
   "metadata": {},
   "outputs": [
    {
     "name": "stdout",
     "output_type": "stream",
     "text": [
      "10 1 2 3\n"
     ]
    }
   ],
   "source": [
    "def asterisk_test(a,b,c,d):\n",
    "    print(a,b,c,d)\n",
    "data={\"b\":1,\"c\":2,\"d\":3}\n",
    "asterisk_test(10,**data)"
   ]
  },
  {
   "cell_type": "code",
   "execution_count": null,
   "metadata": {},
   "outputs": [],
   "source": []
  }
 ],
 "metadata": {
  "kernelspec": {
   "display_name": "Python 3",
   "language": "python",
   "name": "python3"
  },
  "language_info": {
   "codemirror_mode": {
    "name": "ipython",
    "version": 3
   },
   "file_extension": ".py",
   "mimetype": "text/x-python",
   "name": "python",
   "nbconvert_exporter": "python",
   "pygments_lexer": "ipython3",
   "version": "3.7.4"
  }
 },
 "nbformat": 4,
 "nbformat_minor": 2
}
